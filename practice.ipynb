{
 "cells": [
  {
   "cell_type": "code",
   "execution_count": 20,
   "metadata": {},
   "outputs": [
    {
     "name": "stdout",
     "output_type": "stream",
     "text": [
      "Krishnendu Ghosh\n",
      "Krishnendu Ghosh\n",
      "['Happy', 'am', 'I']\n",
      "My Name is Krishnendu Ghosh\n",
      "True\n",
      "False\n",
      " HHHeeellllllooo\n",
      "[2, 3, 5, 7, 11, 13, 17, 19, 23, 29, 31, 37, 41, 43, 47, 53, 59, 61, 67, 71, 73, 79, 83, 89, 97]\n"
     ]
    },
    {
     "data": {
      "text/plain": [
       "25"
      ]
     },
     "execution_count": 20,
     "metadata": {},
     "output_type": "execute_result"
    }
   ],
   "source": [
    "def my_name(name):\n",
    "    first_letter= name[0]\n",
    "    inbetween =name[1:11]\n",
    "    fourth_letter=name[11]\n",
    "    rest =name[12:]\n",
    "    return first_letter.upper()+inbetween+fourth_letter.upper()+rest\n",
    "f=my_name('krishnendu ghosh')\n",
    "print(f)\n",
    "#--------------------\n",
    "def my_name(name):#capitalized name First and last letter\n",
    "    first_half = name[:11]\n",
    "    second_half = name[11:]\n",
    "    return first_half.capitalize() + second_half.capitalize()\n",
    "result = my_name('krishnendu ghosh')\n",
    "print(result)\n",
    "#-------------------------------\n",
    "def word(text):#reverse word list\n",
    "    wordlist=text.split()\n",
    "    reverse_word_list=wordlist[::-1]\n",
    "    return reverse_word_list\n",
    "w=word('I am Happy')\n",
    "print(w)\n",
    "#join list\n",
    "mylist=[\"My\",\"Name\",\"is\",\"Krishnendu\",\"Ghosh\"]\n",
    "j=' '.join(mylist)\n",
    "print(j)\n",
    "#--r----------\n",
    "def almost_there(n):\n",
    "    return (abs(100-n) <=10) or (abs(200-n)<=10)\n",
    "almost_there(150)\n",
    "#given a list of ints ,return true if array contains a 3 next to a 3 somewhere\n",
    "def has_33(nums):\n",
    "    for i in range (0,len(nums)-1):\n",
    "        if nums[i]==3 and nums [i+1]==3:\n",
    "            return True\n",
    "    return False\n",
    "x=has_33([3,3,3])\n",
    "print(x)\n",
    "y=has_33([3,1,3])\n",
    "print(y)\n",
    "#given a string return a string where every of character in the original there are three char\n",
    "def three_char(text):\n",
    "    result=' '\n",
    "    for char in text:\n",
    "        result+=char*3\n",
    "    return result\n",
    "c=three_char(\"Hello\")\n",
    "print(c)\n",
    "#prime number\n",
    "def count_prime(num):\n",
    "    if num<2:\n",
    "        return 0\n",
    "    primes =[2]\n",
    "    x=3\n",
    "    while x<=num:\n",
    "        for y in range(3,x,2):\n",
    "            if x%y==0:\n",
    "                x+=2\n",
    "                break\n",
    "        else:\n",
    "            primes.append(x)\n",
    "            x+=2\n",
    "    print(primes)\n",
    "    return len(primes)\n",
    "count_prime(100)\n",
    "\n",
    "            \n",
    "            \n",
    "                \n",
    "              \n",
    "    \n",
    "    \n"
   ]
  }
 ],
 "metadata": {
  "kernelspec": {
   "display_name": ".venv",
   "language": "python",
   "name": "python3"
  },
  "language_info": {
   "codemirror_mode": {
    "name": "ipython",
    "version": 3
   },
   "file_extension": ".py",
   "mimetype": "text/x-python",
   "name": "python",
   "nbconvert_exporter": "python",
   "pygments_lexer": "ipython3",
   "version": "3.11.5"
  }
 },
 "nbformat": 4,
 "nbformat_minor": 2
}
