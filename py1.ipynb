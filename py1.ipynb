{
 "cells": [
  {
   "cell_type": "code",
   "execution_count": 28,
   "metadata": {},
   "outputs": [
    {
     "name": "stdout",
     "output_type": "stream",
     "text": [
      "[1, 2, 3, 4, 6]\n",
      "hello \t beda \t ankur\n",
      "Good Morning Krish\n",
      "30\n",
      "124\n",
      "None\n",
      "89\n"
     ]
    },
    {
     "data": {
      "text/plain": [
       "'2322'"
      ]
     },
     "execution_count": 28,
     "metadata": {},
     "output_type": "execute_result"
    }
   ],
   "source": [
    "#methode and finction\n",
    "mylist=[1,2,3,4]\n",
    "mylist.append(6)\n",
    "print(mylist)\n",
    "# function\n",
    "def say_hello():\n",
    "    print(\"hello \\t beda \\t ankur\")\n",
    "say_hello() \n",
    "say_hello\n",
    "def say_hello(name=\"Krish\"):\n",
    "    print(f\"Good Morning {name}\")\n",
    "say_hello()   \n",
    "#-------------------\n",
    "def add_num(num1,num2):\n",
    "    return num1+num2\n",
    "result=add_num(10,20)\n",
    "print(result)\n",
    "def print_result(a,b):\n",
    "    print(a+b)\n",
    "def return_result(a,b):\n",
    "    return  a+b   \n",
    "print(print_result(90,34))\n",
    "print(return_result(67,22))\n",
    "#---------------------------\n",
    "def sum_numbers(num1,num2):\n",
    "    return num1+num2\n",
    "sum_numbers(23,55)\n",
    "sum_numbers(\"23\",\"22\")"
   ]
  },
  {
   "cell_type": "code",
   "execution_count": null,
   "metadata": {},
   "outputs": [],
   "source": []
  },
  {
   "cell_type": "code",
   "execution_count": 26,
   "metadata": {},
   "outputs": [
    {
     "name": "stdout",
     "output_type": "stream",
     "text": [
      "True\n",
      "[2, 4]\n",
      "[]\n"
     ]
    }
   ],
   "source": [
    "#fuction with logic\n",
    "def even_check(num):\n",
    "    result=num%2==0 \n",
    "    return result\n",
    "print(even_check(22))\n",
    "# return true if any number is even inside a list\n",
    "def check_even_list(num_list):\n",
    "    for number  in num_list:\n",
    "        if number%2==0:\n",
    "            return True\n",
    "        else:\n",
    "            pass\n",
    "    return False    \n",
    "check_even_list([1,2,3,4,5])  \n",
    "# return all even number in a list\n",
    "def check_even_list(num_list):\n",
    "    even_numbers = []\n",
    "    for number in num_list:\n",
    "        if number % 2 == 0:\n",
    "            even_numbers.append(number)\n",
    "    return even_numbers\n",
    "\n",
    "result = check_even_list([1, 2, 3, 4, 5])\n",
    "result1=check_even_list([1,3,5])\n",
    "print(result)\n",
    "print(result1)  \n",
    "  "
   ]
  },
  {
   "cell_type": "code",
   "execution_count": 43,
   "metadata": {},
   "outputs": [
    {
     "name": "stdout",
     "output_type": "stream",
     "text": [
      "('Apple', 200)\n",
      "('Guava', 80)\n",
      "('Banana', 60)\n",
      "Apple\n",
      "220.0\n",
      "Guava\n",
      "88.0\n",
      "Banana\n",
      "66.0\n",
      "('snehashish', 500)\n",
      "snehashish\n",
      "500\n"
     ]
    }
   ],
   "source": [
    "#Tuple with unpacking with python function\n",
    "stock_prise=[('Apple',200),('Guava',80),('Banana',60)]\n",
    "for item in stock_prise:\n",
    "    print(item)\n",
    "for ticker,price in stock_prise:\n",
    "    print(ticker)   \n",
    "    print(price+(0.1*price)) \n",
    "#----------------------------------\n",
    "work_hours=[(\"krish\",100),(\"arka\",200),(\"sandip\",300),(\"souvan\",400),(\"snehashish\",500)] \n",
    "def employee_check(work_hours):\n",
    "    current_max=0\n",
    "    employee_of_the_month=\" \"\n",
    "    for employee,hours in work_hours:\n",
    "        if hours>current_max:\n",
    "            current_max=hours\n",
    "            employee_of_the_month=employee\n",
    "        else:\n",
    "            pass\n",
    "             \n",
    "    return (employee_of_the_month,current_max)\n",
    "employee_check(work_hours)    \n",
    "result=employee_check(work_hours)\n",
    "name,hours=employee_check(work_hours)\n",
    "print(result)\n",
    "print(name)\n",
    "print(hours)"
   ]
  },
  {
   "cell_type": "code",
   "execution_count": null,
   "metadata": {},
   "outputs": [],
   "source": [
    "example= [1,2,3,4,5,6,7]\n",
    "from random import shuffle\n",
    "shuffle(example)\n",
    "print(example)\n",
    "#---------------------------\n",
    "def shuffle_list(mylist):\n",
    "    shuffle(mylist)\n",
    "    return mylist\n",
    "result=shuffle_list(example)\n",
    "print(result)\n",
    "#-------------------\n",
    "mylist=[\" \",\"o\",\" \"]\n",
    "shuffle_list(mylist)\n",
    "print(mylist)\n",
    "#----------------------\n",
    "def player_guess():\n",
    "    \n",
    "    guess=''\n",
    "   \n",
    "    while guess not in ['0','1','2']:\n",
    "        guess = input(\"pick a number:0,1 or 2\")\n",
    "    return int(guess)\n",
    "print(player_guess())\n",
    "myindex=player_guess()\n",
    "print(myindex())\n",
    " "
   ]
  },
  {
   "cell_type": "code",
   "execution_count": 48,
   "metadata": {},
   "outputs": [
    {
     "name": "stdout",
     "output_type": "stream",
     "text": [
      "correct\n"
     ]
    }
   ],
   "source": [
    "def check_guess(mylist,guess):\n",
    "    if mylist[guess]==\"0\":\n",
    "      print(\"correct\")\n",
    "    else:\n",
    "        print(\"opps wrong!try again...\")\n",
    "        print(mylist) \n",
    "# initial list\n",
    "mylist=[' ','0',' ']\n",
    "\n",
    "# suffle list\n",
    "mixedup_list=shuffle_list(mylist)\n",
    "# user guess\n",
    "guess=player_guess()\n",
    "# check guess\n",
    "check_guess(mixedup_list,guess)     \n",
    "        "
   ]
  },
  {
   "cell_type": "code",
   "execution_count": 19,
   "metadata": {},
   "outputs": [
    {
     "name": "stdout",
     "output_type": "stream",
     "text": [
      "40\n",
      "60\n",
      "100\n",
      "1\n",
      "34\n",
      "{'fruit': 'Apple', 'vegi': 'Brocoli'}\n",
      "My fruit of choice is Apple\n",
      "(10, 20, 30)\n",
      "{'fruit': 'orange', 'food': 'eggs', 'animal': 'dog'}\n",
      "I would like  10 eggs \n"
     ]
    }
   ],
   "source": [
    "# **args and ** kwargs \n",
    "def myfunc(a,b,c,d=0,e=0):\n",
    "    return sum ((a,b,c,d,e))*0.05\n",
    "myfunc(40,60,100,100,3)\n",
    "#-------------------------\n",
    "def myfunc (*args):\n",
    "    return sum (args)* 0.05\n",
    "myfunc(40,60,100,1)\n",
    "#---------------------\n",
    "def myfunc (*args):# return tuple\n",
    "    for item in args:\n",
    "        print(item)\n",
    "myfunc(40,60,100,1,34) \n",
    "#========================\n",
    "def myfunc(**kwargs):#return dict\n",
    "    print(kwargs)\n",
    "    if 'fruit' in kwargs:\n",
    "        print('My fruit of choice is {}'.format(kwargs ['fruit']))\n",
    "    else:\n",
    "        print('i did not find anything')\n",
    "myfunc(fruit='Apple',vegi='Brocoli')   \n",
    "#------------------------------\n",
    "def myfunc(*args,**kwargs):\n",
    "    print(args)\n",
    "    print(kwargs)\n",
    "    print('I would like  {} {} '.format(args[0],kwargs['food']))\n",
    "myfunc(10,20,30,fruit='orange',food='eggs',animal='dog')             \n",
    "              \n",
    "     "
   ]
  },
  {
   "cell_type": "code",
   "execution_count": 33,
   "metadata": {},
   "outputs": [
    {
     "name": "stdout",
     "output_type": "stream",
     "text": [
      "1\n",
      "4\n",
      "9\n",
      "16\n",
      "25\n",
      "[1, 4, 9, 16, 25]\n",
      "['Even', 'A', 'Even', 'Even']\n",
      "[2, 4, 6]\n",
      "2\n",
      "4\n",
      "6\n",
      "9\n",
      "25\n",
      "[1, 4, 9, 16, 25, 36]\n",
      "[2, 4, 6]\n",
      "['adeB', 'ruknA', 'inoR', 'aD']\n"
     ]
    }
   ],
   "source": [
    "#lambda expressions map and filter\n",
    "def square(nums):\n",
    "    return nums**2\n",
    "my_nums=[1,2,3,4,5]\n",
    "for item in map(square,my_nums):\n",
    "    print(item)\n",
    "x=list(map(square,my_nums))\n",
    "print(x)  \n",
    "def splicer (mystring):\n",
    "    if len(mystring)%2==0:\n",
    "        return 'Even'\n",
    "    else:\n",
    "        return mystring[0]\n",
    "names=['Beda','Ankur','Roni','Da']\n",
    "y=list(map(splicer,names))\n",
    "print(y)\n",
    "#-------------------\n",
    "def check_even(num):\n",
    "    return num%2==0\n",
    "mynums=[1,2,3,4,5,6]\n",
    "z=list(filter(check_even,mynums))\n",
    "print(z)\n",
    "for n in filter(check_even,mynums):\n",
    "    print(n)\n",
    "#----------------------------\n",
    "def square(num): return num**2\n",
    "a=square(3)\n",
    "print(a)\n",
    "#----------\n",
    "square=lambda num:num**2\n",
    "b=square (5)\n",
    "print(b)   \n",
    "#-------------\n",
    "d=list(map(lambda num:num**2,mynums)) \n",
    "print(d)\n",
    "#-------------\n",
    "e=list(filter(lambda num:num%2==0,mynums))\n",
    "print(e)\n",
    "#-------------\n",
    "f=list(map(lambda x:x[::-1],names))\n",
    "print(f)"
   ]
  },
  {
   "cell_type": "code",
   "execution_count": 47,
   "metadata": {},
   "outputs": [
    {
     "name": "stdout",
     "output_type": "stream",
     "text": [
      "25\n",
      "50\n",
      "Hello Krish\n",
      "x is 50\n",
      "I just locally changed x to 200\n"
     ]
    }
   ],
   "source": [
    "#nested statement and scope\n",
    "x=25\n",
    "def printer():\n",
    "    x=50\n",
    "    return x\n",
    "print(x)\n",
    "print(printer())\n",
    "#------------------\n",
    "name='This is A Global String'\n",
    "def greet():\n",
    "    name='Krish'\n",
    "    def hello():\n",
    "      print('Hello '+ name)\n",
    "    hello()\n",
    "greet()\n",
    "#----------------\n",
    "x=50\n",
    "def func(x):\n",
    "    print(f'x is {x}')\n",
    "    x=200\n",
    "    print(f'I just locally changed x to {x}')\n",
    "func(x)       "
   ]
  },
  {
   "cell_type": "code",
   "execution_count": 19,
   "metadata": {},
   "outputs": [
    {
     "name": "stdout",
     "output_type": "stream",
     "text": [
      "5040\n",
      "3.3219280948873626\n",
      "3.4641016151377544\n"
     ]
    }
   ],
   "source": [
    "# module and package(built in module)\n",
    "import math\n",
    "print(math.sqrt(16))\n",
    "print(math.factorial(5))\n",
    "print(math.log(100,10))\n",
    "print(dir(math))\n",
    "from math import factorial\n",
    "from math import log\n",
    "print(log(100,2))\n",
    "print(factorial(12))\n",
    "from math import*\n",
    "print(factorial(7))\n",
    "print(log(10,2))\n",
    "print(sqrt(12))\n",
    "# internal module\n",
    "#pip install access-dict-by-dot\n",
    "#from access_dict_by_dot import AccessDictByDot\n",
    "#information={\"name\":\"Krishnendu\"}\n",
    "\n"
   ]
  },
  {
   "cell_type": "code",
   "execution_count": 22,
   "metadata": {},
   "outputs": [
    {
     "name": "stdout",
     "output_type": "stream",
     "text": [
      "Welcome Krish\n",
      "Good evening Krish\n",
      "Thanks for using this function.\n"
     ]
    }
   ],
   "source": [
    "#decorator in python\n",
    "def wel(func):\n",
    "    def say():\n",
    "        print(\"Welcome Krish\")\n",
    "        func()\n",
    "        print(\"Thanks for using this function.\")\n",
    "    return say\n",
    "\n",
    "@wel\n",
    "def hello():\n",
    "    print(\"Good evening Krish\")\n",
    "hello()\n",
    "    \n",
    "        "
   ]
  }
 ],
 "metadata": {
  "kernelspec": {
   "display_name": ".venv",
   "language": "python",
   "name": "python3"
  },
  "language_info": {
   "codemirror_mode": {
    "name": "ipython",
    "version": 3
   },
   "file_extension": ".py",
   "mimetype": "text/x-python",
   "name": "python",
   "nbconvert_exporter": "python",
   "pygments_lexer": "ipython3",
   "version": "3.11.5"
  }
 },
 "nbformat": 4,
 "nbformat_minor": 2
}
