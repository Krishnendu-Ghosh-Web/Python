{
 "cells": [
  {
   "cell_type": "code",
   "execution_count": 4,
   "metadata": {},
   "outputs": [
    {
     "name": "stdout",
     "output_type": "stream",
     "text": [
      "Total Bike 100\n",
      "Total prices 25000\n",
      "Total Bikes 100\n"
     ]
    }
   ],
   "source": [
    "# A Bike Rental System\n",
    "class BikeShop():\n",
    "    def __init__(self,stock):\n",
    "        self.stock=stock\n",
    "    def displayBike(self):\n",
    "        print(\"Total Bike\",self.stock) \n",
    "    def  rentBike(self,q):\n",
    "        if q<=0:\n",
    "            print(\"Enter the positive value or greter than Zreo \")\n",
    "        elif q>self.stock:\n",
    "            print(\"Enter the value (less tha stock) \")\n",
    "        else :\n",
    "            print(\"Total prices\",q*500)    \n",
    "            print(\"Total Bikes\",self.stock) \n",
    "\n",
    "while True:\n",
    "    obj = BikeShop(100)\n",
    "    uc = int(input(\"1. Display Stocks\\n2. Rent a Bike\\n3. Exit\\nEnter your choice: \"))\n",
    "\n",
    "    if uc == 1:\n",
    "        obj.displayBike()\n",
    "    elif uc == 2:\n",
    "        \n",
    "         n = int(input(\"Enter the Quantity: \"))\n",
    "         obj.rentBike(n)\n",
    "    else:\n",
    "        break    \n",
    "               \n",
    "            "
   ]
  }
 ],
 "metadata": {
  "kernelspec": {
   "display_name": ".venv",
   "language": "python",
   "name": "python3"
  },
  "language_info": {
   "codemirror_mode": {
    "name": "ipython",
    "version": 3
   },
   "file_extension": ".py",
   "mimetype": "text/x-python",
   "name": "python",
   "nbconvert_exporter": "python",
   "pygments_lexer": "ipython3",
   "version": "3.11.5"
  }
 },
 "nbformat": 4,
 "nbformat_minor": 2
}
