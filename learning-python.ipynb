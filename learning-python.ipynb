{
 "cells": [
  {
   "cell_type": "code",
   "execution_count": 4,
   "metadata": {},
   "outputs": [],
   "source": [
    "# 1. Comments\n",
    "# This is a single line comment\n",
    "'''\n",
    "This \n",
    "is\n",
    "a multiline comment\n",
    "'''\n",
    "x = 10001"
   ]
  },
  {
   "cell_type": "code",
   "execution_count": 5,
   "metadata": {},
   "outputs": [
    {
     "name": "stdout",
     "output_type": "stream",
     "text": [
      "10011\n"
     ]
    }
   ],
   "source": [
    "# identifier\n",
    "# variable name, function name, class name\n",
    "# [A-Za-z0-9_] but the identifier will never start with numbers\n",
    "# valid identifier: krish1, ram2, honu_lulu_lu_____lu, poOOO_cha, _, \n",
    "# invalid: 9x, 1, \n",
    "\n",
    "myint = 10 +x\n",
    "isthisanumber = True\n",
    "# For easy reading: declare identifiers like this: is_this_a_number, isThisANumber(camel casing)\n",
    "print(myint)"
   ]
  },
  {
   "cell_type": "code",
   "execution_count": 15,
   "metadata": {},
   "outputs": [
    {
     "name": "stdout",
     "output_type": "stream",
     "text": [
      "My name is Krishna. My age is 20. And my cgpa is 8.39\n",
      "10\n",
      "1000\n"
     ]
    }
   ],
   "source": [
    "# variable declaration\n",
    "# using `=` assignment operator\n",
    "age = 20\n",
    "name = \"Krishna\"\n",
    "cgpa = 8.39\n",
    "fstr = f\"My name is {name}. My age is {age}. And my cgpa is {cgpa}\" # this is a f_string\n",
    "print(fstr)\n",
    "# this variables are global variable, i.e. declared in the global scope\n",
    "\n",
    "y = 1000\n",
    "\n",
    "def increase_y():\n",
    "    \n",
    "    \n",
    "f()\n",
    "print(y)"
   ]
  },
  {
   "cell_type": "code",
   "execution_count": 4,
   "metadata": {},
   "outputs": [
    {
     "name": "stdout",
     "output_type": "stream",
     "text": [
      "factorial number=120\n"
     ]
    }
   ],
   "source": [
    "import math\n",
    "factorial = lambda n: math.factorial(n)\n",
    "result = factorial(5)\n",
    "print(f'factorial number={result}')\n"
   ]
  },
  {
   "cell_type": "code",
   "execution_count": 6,
   "metadata": {},
   "outputs": [
    {
     "name": "stdout",
     "output_type": "stream",
     "text": [
      "is this armstrong number=True\n"
     ]
    }
   ],
   "source": [
    "is_armstrong = lambda n: n == sum(int(digit)**len(str(n)) for digit in str(n))\n",
    "result = is_armstrong(153)\n",
    "print(f'is this armstrong number={result}')"
   ]
  },
  {
   "cell_type": "code",
   "execution_count": 7,
   "metadata": {},
   "outputs": [
    {
     "name": "stdout",
     "output_type": "stream",
     "text": [
      "is this prime number=True\n"
     ]
    }
   ],
   "source": [
    "is_prime = lambda n: n > 1 and all(n % i != 0 for i in range(2, int(n**0.5) + 1))\n",
    "result = is_prime(13)\n",
    "print(f'is this prime number={result}')"
   ]
  },
  {
   "cell_type": "code",
   "execution_count": 8,
   "metadata": {},
   "outputs": [
    {
     "name": "stdout",
     "output_type": "stream",
     "text": [
      "2023-12-06 19:58:21.662792\n",
      "2023-12-06 19:58:21\n"
     ]
    }
   ],
   "source": [
    "from datetime import datetime\n",
    "current_date_time = datetime.now()\n",
    "print(current_date_time)\n",
    "formatted_date_time = datetime.now().strftime(\"%Y-%m-%d %H:%M:%S\")\n",
    "print(formatted_date_time)"
   ]
  },
  {
   "cell_type": "code",
   "execution_count": 11,
   "metadata": {},
   "outputs": [
    {
     "name": "stdout",
     "output_type": "stream",
     "text": [
      "* * * * * \n",
      "  * * * * \n",
      "    * * * \n",
      "      * * \n",
      "        * \n"
     ]
    }
   ],
   "source": [
    "rows = 5\n",
    "i = rows\n",
    "while i >= 1:\n",
    "    j = rows\n",
    "    while j > i:\n",
    "        print(' ', end=' ')\n",
    "        j -= 1\n",
    "    k = 1\n",
    "    while k <= i:\n",
    "        print('*', end=' ')\n",
    "        k += 1\n",
    "    print()\n",
    "    i -= 1\n",
    "\n"
   ]
  },
  {
   "cell_type": "code",
   "execution_count": 8,
   "metadata": {},
   "outputs": [
    {
     "name": "stdout",
     "output_type": "stream",
     "text": [
      "The GCD of 48 and 18 is: 6\n"
     ]
    }
   ],
   "source": [
    "def euclidean_algorithm(a, b):\n",
    "    while b != 0:\n",
    "        a, b = b, a % b\n",
    "    return a\n",
    "\n",
    "# Example usage:\n",
    "num1 = 48\n",
    "num2 = 18\n",
    "\n",
    "gcd_result = euclidean_algorithm(num1, num2)\n",
    "print(f\"The GCD of {num1} and {num2} is: {gcd_result}\")\n"
   ]
  },
  {
   "cell_type": "code",
   "execution_count": 13,
   "metadata": {},
   "outputs": [
    {
     "name": "stdout",
     "output_type": "stream",
     "text": [
      "1221 is a palindrome.\n"
     ]
    }
   ],
   "source": [
    "is_palindrome = lambda number: str(number) == str(number)[::-1]\n",
    "input_number = 1221\n",
    "result = is_palindrome(input_number)\n",
    "print(f\"{input_number} is {'a' if result else 'not a'} palindrome.\")\n"
   ]
  },
  {
   "cell_type": "code",
   "execution_count": 2,
   "metadata": {},
   "outputs": [
    {
     "name": "stdout",
     "output_type": "stream",
     "text": [
      "        * *        \n",
      "        * *   \n",
      "     \n",
      "      * * * *  \n",
      "    \n",
      "      * * * *   \n",
      "   \n",
      "    * * * * * * \n",
      "   \n",
      "    * * * * * *  \n",
      "  \n",
      "  * * * * * * * * \n",
      " \n",
      "  * * * * * * * * \n",
      " \n",
      "* * * * * * * * * *\n",
      "\n",
      "* * * * * * * * * *\n",
      "\n"
     ]
    }
   ],
   "source": [
    "print(\"        * *          \")\n",
    "print(\"        * *   \\n     \")\n",
    "print(\"      * * * *  \\n    \")\n",
    "print(\"      * * * *   \\n   \")\n",
    "print(\"    * * * * * * \\n   \")\n",
    "print(\"    * * * * * *  \\n  \")\n",
    "print(\"  * * * * * * * * \\n \")\n",
    "print(\"  * * * * * * * * \\n \")\n",
    "print(\"* * * * * * * * * *\\n\")\n",
    "print(\"* * * * * * * * * *\\n\")\n",
    "\n"
   ]
  }
 ],
 "metadata": {
  "kernelspec": {
   "display_name": ".venv",
   "language": "python",
   "name": "python3"
  },
  "language_info": {
   "codemirror_mode": {
    "name": "ipython",
    "version": 3
   },
   "file_extension": ".py",
   "mimetype": "text/x-python",
   "name": "python",
   "nbconvert_exporter": "python",
   "pygments_lexer": "ipython3",
   "version": "3.11.5"
  },
  "orig_nbformat": 4
 },
 "nbformat": 4,
 "nbformat_minor": 2
}
