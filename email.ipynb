{
 "cells": [
  {
   "cell_type": "code",
   "execution_count": null,
   "metadata": {},
   "outputs": [],
   "source": [
    "#Sending Emails with Python\n",
    "import smtplib\n",
    "smtp_object=smtplib.SMTP('smtp.gmail.com',587)\n",
    "smtp_object.starttls()\n",
    "smtp_object.login('ghoshkrrishnendu7@gmail.com','Krish#0708')\n",
    "smtp_object.sendmail('ghoshkrrishnendu7@gmail.com','bkrishnendughosh@gmail.com','Mail sent from python...')\n",
    "print(\"Mail sent\")"
   ]
  },
  {
   "cell_type": "code",
   "execution_count": null,
   "metadata": {},
   "outputs": [],
   "source": [
    "#resiving email with python\n"
   ]
  }
 ],
 "metadata": {
  "kernelspec": {
   "display_name": "Python 3",
   "language": "python",
   "name": "python3"
  },
  "language_info": {
   "codemirror_mode": {
    "name": "ipython",
    "version": 3
   },
   "file_extension": ".py",
   "mimetype": "text/x-python",
   "name": "python",
   "nbconvert_exporter": "python",
   "pygments_lexer": "ipython3",
   "version": "3.11.5"
  }
 },
 "nbformat": 4,
 "nbformat_minor": 2
}
