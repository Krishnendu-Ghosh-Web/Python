{
 "cells": [
  {
   "cell_type": "code",
   "execution_count": 3,
   "metadata": {},
   "outputs": [
    {
     "ename": "ValueError",
     "evalue": "invalid literal for int() with base 10: ''",
     "output_type": "error",
     "traceback": [
      "\u001b[1;31m---------------------------------------------------------------------------\u001b[0m",
      "\u001b[1;31mValueError\u001b[0m                                Traceback (most recent call last)",
      "Cell \u001b[1;32mIn[3], line 1\u001b[0m\n\u001b[1;32m----> 1\u001b[0m a\u001b[38;5;241m=\u001b[39m\u001b[38;5;28;43mint\u001b[39;49m\u001b[43m(\u001b[49m\u001b[38;5;28;43minput\u001b[39;49m\u001b[43m(\u001b[49m\u001b[38;5;124;43m\"\u001b[39;49m\u001b[38;5;124;43menter 1st num\u001b[39;49m\u001b[38;5;124;43m\"\u001b[39;49m\u001b[43m)\u001b[49m\u001b[43m)\u001b[49m\n\u001b[0;32m      2\u001b[0m b\u001b[38;5;241m=\u001b[39m\u001b[38;5;28mint\u001b[39m(\u001b[38;5;28minput\u001b[39m(\u001b[38;5;124m\"\u001b[39m\u001b[38;5;124menter 2nd num\u001b[39m\u001b[38;5;124m\"\u001b[39m))\n\u001b[0;32m      3\u001b[0m c\u001b[38;5;241m=\u001b[39m\u001b[38;5;28mint\u001b[39m(\u001b[38;5;28minput\u001b[39m(\u001b[38;5;124m\"\u001b[39m\u001b[38;5;124menter 3rd number\u001b[39m\u001b[38;5;124m\"\u001b[39m))\n",
      "\u001b[1;31mValueError\u001b[0m: invalid literal for int() with base 10: ''"
     ]
    }
   ],
   "source": [
    "a=int(input(\"enter 1st num\"))\n",
    "b=int(input(\"enter 2nd num\"))\n",
    "c=int(input(\"enter 3rd number\"))\n",
    "if(a>b and a>c):\n",
    "    print(a,\"is greater\")\n",
    "elif(b>c and b>a):\n",
    "    print(b,\" is greater\")\n",
    "else:\n",
    "    print(c,\"is greater\")\n",
    "    \n",
    "    "
   ]
  },
  {
   "cell_type": "code",
   "execution_count": null,
   "metadata": {},
   "outputs": [],
   "source": [
    "#natural number\n",
    "i=int(input(\"enter the range\"))\n",
    "for i in range(1,i+1):\n",
    "    print(i)"
   ]
  },
  {
   "cell_type": "code",
   "execution_count": null,
   "metadata": {},
   "outputs": [
    {
     "name": "stdout",
     "output_type": "stream",
     "text": [
      "5405\n"
     ]
    }
   ],
   "source": [
    "# area ractangle\n",
    "length=int(input(\"enter the legth\"))\n",
    "breath=int(input(\"enter the breath\"))\n",
    "area=length*breath\n",
    "print(area)"
   ]
  },
  {
   "cell_type": "code",
   "execution_count": null,
   "metadata": {},
   "outputs": [
    {
     "name": "stdout",
     "output_type": "stream",
     "text": [
      "1156\n"
     ]
    }
   ],
   "source": [
    "#area square\n",
    "side=int(input(\"enter the side length\"))\n",
    "area=side*side\n",
    "print(area)"
   ]
  },
  {
   "cell_type": "code",
   "execution_count": null,
   "metadata": {},
   "outputs": [
    {
     "name": "stdout",
     "output_type": "stream",
     "text": [
      "6358.500000000001\n"
     ]
    }
   ],
   "source": [
    "#area of circle\n",
    "radious=int(input(\"enter the radius\"))\n",
    "\n",
    "area=3.14*radious*radious\n",
    "print(area)"
   ]
  },
  {
   "cell_type": "code",
   "execution_count": null,
   "metadata": {},
   "outputs": [
    {
     "name": "stdout",
     "output_type": "stream",
     "text": [
      "3.0\n"
     ]
    }
   ],
   "source": [
    "s=int('23')\n",
    "print(23//7.2)"
   ]
  },
  {
   "cell_type": "code",
   "execution_count": null,
   "metadata": {},
   "outputs": [
    {
     "name": "stdout",
     "output_type": "stream",
     "text": [
      "217.66028576660466\n"
     ]
    }
   ],
   "source": [
    "#area triangle\n",
    "a=int(input(\"enter 1st side \"))\n",
    "b=int(input(\"enter 2nd side \"))\n",
    "c=int(input(\"enter 3rd side \"))\n",
    "s=(a+b+c)/2 #semi perimeter\n",
    "area=(s*(s-a)*(s-b)*(s-c))**0.5\n",
    "print(area)\n"
   ]
  },
  {
   "cell_type": "code",
   "execution_count": null,
   "metadata": {},
   "outputs": [
    {
     "name": "stdout",
     "output_type": "stream",
     "text": [
      "A= 50 B= 20\n"
     ]
    }
   ],
   "source": [
    "#swaping\n",
    "a=int(input(\"enter 1st num\"))\n",
    "b=int(input(\"enter 2nd num\"))\n",
    "a=a+b\n",
    "b=a-b\n",
    "a=a-b\n",
    "\n"
   ]
  },
  {
   "cell_type": "code",
   "execution_count": null,
   "metadata": {},
   "outputs": [
    {
     "name": "stdout",
     "output_type": "stream",
     "text": [
      "2024-03-31\n",
      "<class 'list'>\n"
     ]
    }
   ],
   "source": [
    "import datetime\n",
    "print(datetime.datetime.now().date())\n",
    "print(type([1,\"ERTYT\"]))"
   ]
  },
  {
   "cell_type": "code",
   "execution_count": 12,
   "metadata": {},
   "outputs": [
    {
     "name": "stdout",
     "output_type": "stream",
     "text": [
      "['1', '2', '3']\n"
     ]
    }
   ],
   "source": [
    "list1=list(map(str,input(\"Enter the Array Element :- \").strip().split()))\n",
    "print(list1)"
   ]
  },
  {
   "cell_type": "code",
   "execution_count": 2,
   "metadata": {},
   "outputs": [
    {
     "name": "stdout",
     "output_type": "stream",
     "text": [
      "factorial: 120\n"
     ]
    }
   ],
   "source": [
    "#factorial num\n",
    "num=int(input(\"enter the number\"))\n",
    "fact=1\n",
    "for i in range (1,num+1):\n",
    "   fact= fact*i\n",
    "print(\"factorial:\",fact)   \n",
    "    "
   ]
  },
  {
   "cell_type": "code",
   "execution_count": 5,
   "metadata": {},
   "outputs": [
    {
     "name": "stdout",
     "output_type": "stream",
     "text": [
      "not palindrom\n"
     ]
    }
   ],
   "source": [
    "#palindron num\n",
    "num=int(input(\"enter a number\"))\n",
    "temp=num\n",
    "sum=0\n",
    "while num>0:\n",
    "   r= num%10\n",
    "   sum=sum*10+r\n",
    "   num=num//10\n",
    "if(temp==sum):\n",
    "    print(\"palindrom\")\n",
    "else:\n",
    "    print(\"not palindrom\")  \n",
    "   \n"
   ]
  },
  {
   "cell_type": "code",
   "execution_count": 11,
   "metadata": {},
   "outputs": [
    {
     "name": "stdout",
     "output_type": "stream",
     "text": [
      "armstrom\n"
     ]
    }
   ],
   "source": [
    "#armstorng number\n",
    "num=int(input(\"enter the number\"))\n",
    "temp=num\n",
    "sum=0\n",
    "while(num>0):\n",
    "    r=num%10\n",
    "    sum=sum+r*r*r\n",
    "    num=num//10\n",
    "if(temp==sum):\n",
    "    print(\"armstrom\")\n",
    "else:\n",
    "    print(\"not armstrom\")\n",
    "        "
   ]
  },
  {
   "cell_type": "code",
   "execution_count": 13,
   "metadata": {},
   "outputs": [
    {
     "name": "stdout",
     "output_type": "stream",
     "text": [
      "6432"
     ]
    }
   ],
   "source": [
    "#reverse a number\n",
    "n=int(input(\"enter the number\"))\n",
    "while n>0:\n",
    "    r=n%10\n",
    "    print(r,end=\"\")\n",
    "    n=n//10\n",
    "    \n",
    "    "
   ]
  },
  {
   "cell_type": "code",
   "execution_count": 14,
   "metadata": {},
   "outputs": [
    {
     "name": "stdout",
     "output_type": "stream",
     "text": [
      "sum of digits 10\n"
     ]
    }
   ],
   "source": [
    "#sum of digit\n",
    "n=int(input(\"enter the number\"))\n",
    "sum=0\n",
    "while n>0:\n",
    "    r=n%10\n",
    "    sum=sum+r\n",
    "    n=n//10\n",
    "print(\"sum of digits:\",sum)        "
   ]
  }
 ],
 "metadata": {
  "kernelspec": {
   "display_name": "Python 3",
   "language": "python",
   "name": "python3"
  },
  "language_info": {
   "codemirror_mode": {
    "name": "ipython",
    "version": 3
   },
   "file_extension": ".py",
   "mimetype": "text/x-python",
   "name": "python",
   "nbconvert_exporter": "python",
   "pygments_lexer": "ipython3",
   "version": "undefined.undefined.undefined"
  }
 },
 "nbformat": 4,
 "nbformat_minor": 2
}
