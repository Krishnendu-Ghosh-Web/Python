{
 "cells": [
  {
   "cell_type": "code",
   "execution_count": 1,
   "metadata": {},
   "outputs": [
    {
     "name": "stdout",
     "output_type": "stream",
     "text": [
      "The minimum value in the list is: 1\n"
     ]
    }
   ],
   "source": [
    "#find minimum in a list\n",
    "my_list = [4, 2, 7, 1, 9, 5]\n",
    "minimum_value = min(my_list)\n",
    "print(\"The minimum value in the list is:\", minimum_value)\n"
   ]
  },
  {
   "cell_type": "code",
   "execution_count": 2,
   "metadata": {},
   "outputs": [
    {
     "name": "stdout",
     "output_type": "stream",
     "text": [
      "Sorted list after insertion: [1, 3, 4, 5, 7, 9]\n"
     ]
    }
   ],
   "source": [
    "#insert a element in a list of sorted list \n",
    "from bisect import insort\n",
    "sorted_list = [1, 3, 5, 7, 9]\n",
    "element_to_insert = 4\n",
    "insort(sorted_list, element_to_insert)\n",
    "print(\"Sorted list after insertion:\", sorted_list)\n"
   ]
  },
  {
   "cell_type": "code",
   "execution_count": 6,
   "metadata": {},
   "outputs": [
    {
     "name": "stdout",
     "output_type": "stream",
     "text": [
      "Move disk 1 from A to B\n",
      "Move disk 2 from A to C\n",
      "Move disk 1 from B to C\n"
     ]
    }
   ],
   "source": [
    "#Tawer of hanoi\n",
    "def tower_of_hanoi(n, a, b, c):\n",
    "    if n > 0:\n",
    "        tower_of_hanoi(n - 1, a, c, b)\n",
    "        print(f\"Move disk {n} from {a} to {b}\")\n",
    "        tower_of_hanoi(n - 1, c, b, a)\n",
    "tower_of_hanoi(2, 'A', 'C', 'B')\n"
   ]
  },
  {
   "cell_type": "code",
   "execution_count": 7,
   "metadata": {},
   "outputs": [
    {
     "name": "stdout",
     "output_type": "stream",
     "text": [
      "The sum of square roots is: 9.0\n"
     ]
    }
   ],
   "source": [
    "#to find the sum of square root of any three numbers\n",
    "import math\n",
    "def sum_of_square_roots(a, b, c):\n",
    "    sqrt_sum = math.sqrt(a) + math.sqrt(b) + math.sqrt(c)\n",
    "    return sqrt_sum\n",
    "number1 = 4\n",
    "number2 = 9\n",
    "number3 = 16\n",
    "result = sum_of_square_roots(number1, number2, number3)\n",
    "print(f\"The sum of square roots is: {result}\")\n"
   ]
  },
  {
   "cell_type": "code",
   "execution_count": 8,
   "metadata": {},
   "outputs": [
    {
     "name": "stdout",
     "output_type": "stream",
     "text": [
      "The sum of the first 100 integers is: 5050\n"
     ]
    }
   ],
   "source": [
    "#to find the sum of first 100 integers\n",
    "def sum_of_first_n_integers(n):\n",
    "    return n * (n + 1) // 2\n",
    "n = 100\n",
    "result = sum_of_first_n_integers(n)\n",
    "print(f\"The sum of the first {n} integers is: {result}\")\n"
   ]
  },
  {
   "cell_type": "code",
   "execution_count": 9,
   "metadata": {},
   "outputs": [
    {
     "name": "stdout",
     "output_type": "stream",
     "text": [
      "The sum of all odd numbers up to 100 is: 2500\n"
     ]
    }
   ],
   "source": [
    "#To find the sum of all odd numbers till 100.\n",
    "def sum_of_odd_numbers(limit):\n",
    "    odd_sum = 0\n",
    "    for number in range(1, limit + 1, 2):\n",
    "        odd_sum += number\n",
    "    return odd_sum\n",
    "limit = 100\n",
    "result = sum_of_odd_numbers(limit)\n",
    "print(f\"The sum of all odd numbers up to {limit} is: {result}\")\n"
   ]
  },
  {
   "cell_type": "code",
   "execution_count": 10,
   "metadata": {},
   "outputs": [
    {
     "name": "stdout",
     "output_type": "stream",
     "text": [
      "The sum of the five integers is: 150\n"
     ]
    }
   ],
   "source": [
    "#To find the sum of any five integers.\n",
    "def sum_of_five_integers():\n",
    "    numbers = [int(input(f\"Enter integer {i + 1}: \")) for i in range(5)]\n",
    "    return sum(numbers)\n",
    "result = sum_of_five_integers()\n",
    "print(f\"The sum of the five integers is: {result}\")\n"
   ]
  },
  {
   "cell_type": "code",
   "execution_count": 11,
   "metadata": {},
   "outputs": [
    {
     "name": "stdout",
     "output_type": "stream",
     "text": [
      "The factorial of 5 is: 120\n"
     ]
    }
   ],
   "source": [
    "#To find the factorial of number n\n",
    "def factorial(n):\n",
    "    result = 1\n",
    "    for i in range(1, n + 1):\n",
    "        result *= i\n",
    "    return result\n",
    "number = int(input(\"Enter a number: \"))\n",
    "result = factorial(number)\n",
    "print(f\"The factorial of {number} is: {result}\")"
   ]
  },
  {
   "cell_type": "code",
   "execution_count": 12,
   "metadata": {},
   "outputs": [
    {
     "name": "stdout",
     "output_type": "stream",
     "text": [
      "The first 12 numbers in the Fibonacci series are: [0, 1, 1, 2, 3, 5, 8, 13, 21, 34, 55, 89]\n"
     ]
    }
   ],
   "source": [
    "#To find the first in numbers in a Fibonacci series.\n",
    "def fibonacci(n):\n",
    "    fib_series = [0, 1]\n",
    "    while len(fib_series) < n:\n",
    "        next_number = fib_series[-1] + fib_series[-2]\n",
    "        fib_series.append(next_number)\n",
    "    return fib_series[:n]\n",
    "n = int(input(\"Enter the number  \"))\n",
    "fibonacci_series = fibonacci(n)\n",
    "print(f\"The first {n} numbers in the Fibonacci series are: {fibonacci_series}\")\n",
    "\n"
   ]
  },
  {
   "cell_type": "code",
   "execution_count": 13,
   "metadata": {},
   "outputs": [
    {
     "name": "stdout",
     "output_type": "stream",
     "text": [
      "The sum of digits in 234 is: 9\n"
     ]
    }
   ],
   "source": [
    "# To find the sum of digits of a number.\n",
    "def sum_of_digits(number):\n",
    "    number_str = str(number)\n",
    "    digit_sum = 0\n",
    "    for digit_char in number_str:\n",
    "        digit_sum += int(digit_char)\n",
    "    return digit_sum\n",
    "number = int(input(\"Enter a number: \"))\n",
    "result = sum_of_digits(number)\n",
    "print(f\"The sum of digits in {number} is: {result}\")\n"
   ]
  },
  {
   "cell_type": "code",
   "execution_count": 14,
   "metadata": {},
   "outputs": [
    {
     "name": "stdout",
     "output_type": "stream",
     "text": [
      "22 is not a prime number.\n"
     ]
    }
   ],
   "source": [
    "#To find whether a number is prime or not.\n",
    "def is_prime(number):\n",
    "    if number < 2:\n",
    "        return False\n",
    "    for i in range(2, int(number**0.5) + 1):\n",
    "        if number % i == 0:\n",
    "            return False\n",
    "    return True\n",
    "number = int(input(\"Enter a number: \"))\n",
    "if is_prime(number):\n",
    "    print(f\"{number} is a prime number.\")\n",
    "else:\n",
    "    print(f\"{number} is not a prime number.\")\n"
   ]
  },
  {
   "cell_type": "code",
   "execution_count": 15,
   "metadata": {},
   "outputs": [
    {
     "name": "stdout",
     "output_type": "stream",
     "text": [
      "87.0°F is equal to 30.56°C\n"
     ]
    }
   ],
   "source": [
    "#To convert temperature from Fahrenheit to Celsius\n",
    "def fahrenheit_to_celsius(fahrenheit):\n",
    "    celsius = (fahrenheit - 32) * 5 / 9\n",
    "    return celsius\n",
    "fahrenheit_temperature = float(input(\"Enter temperature in Fahrenheit: \"))\n",
    "celsius_temperature = fahrenheit_to_celsius(fahrenheit_temperature)\n",
    "print(f\"{fahrenheit_temperature}°F is equal to {celsius_temperature:.2f}°C\")\n"
   ]
  },
  {
   "cell_type": "code",
   "execution_count": 18,
   "metadata": {},
   "outputs": [
    {
     "name": "stdout",
     "output_type": "stream",
     "text": [
      "The solutions are: ((2+0j), (1+0j))\n"
     ]
    }
   ],
   "source": [
    "#To solve the quadratic equation\n",
    "import cmath  \n",
    "def quadratic_solver(a, b, c):\n",
    "    discriminant = cmath.sqrt(b**2 - 4*a*c)\n",
    "    solution1 = (-b + discriminant) / (2 * a)\n",
    "    solution2 = (-b - discriminant) / (2 * a)\n",
    "    return solution1, solution2\n",
    "a = float(input(\"Enter the coefficient a: \"))\n",
    "b = float(input(\"Enter the coefficient b: \"))\n",
    "c = float(input(\"Enter the coefficient c: \"))\n",
    "solutions = quadratic_solver(a, b, c)\n",
    "print(f\"The solutions are: {solutions}\")\n"
   ]
  },
  {
   "cell_type": "code",
   "execution_count": 19,
   "metadata": {},
   "outputs": [
    {
     "name": "stdout",
     "output_type": "stream",
     "text": [
      "The sum of the first 100 natural numbers is: 5050\n"
     ]
    }
   ],
   "source": [
    "#To find sum first 100 nateral numbers\n",
    "def sum_of_natural_numbers(n):\n",
    "    return n * (n + 1) // 2\n",
    "n = 100\n",
    "result = sum_of_natural_numbers(n)\n",
    "print(f\"The sum of the first {n} natural numbers is: {result}\")\n"
   ]
  },
  {
   "cell_type": "code",
   "execution_count": 20,
   "metadata": {},
   "outputs": [
    {
     "name": "stdout",
     "output_type": "stream",
     "text": [
      "The factorial of 19 is: 121645100408832000\n"
     ]
    }
   ],
   "source": [
    "#To find factorial of a number\n",
    "def factorial(n):\n",
    "    if n == 0 or n == 1:\n",
    "        return 1\n",
    "    else:\n",
    "        return n * factorial(n - 1)\n",
    "number = int(input(\"Enter a number: \"))\n",
    "result = factorial(number)\n",
    "print(f\"The factorial of {number} is: {result}\")\n"
   ]
  }
 ],
 "metadata": {
  "kernelspec": {
   "display_name": "Python 3",
   "language": "python",
   "name": "python3"
  },
  "language_info": {
   "codemirror_mode": {
    "name": "ipython",
    "version": 3
   },
   "file_extension": ".py",
   "mimetype": "text/x-python",
   "name": "python",
   "nbconvert_exporter": "python",
   "pygments_lexer": "ipython3",
   "version": "3.11.5"
  }
 },
 "nbformat": 4,
 "nbformat_minor": 2
}
