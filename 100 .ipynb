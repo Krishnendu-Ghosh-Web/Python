{
 "cells": [
  {
   "cell_type": "code",
   "execution_count": 13,
   "metadata": {},
   "outputs": [
    {
     "name": "stdout",
     "output_type": "stream",
     "text": [
      "hello world 7\n",
      "5\n",
      "'Hello' \n",
      "128.0\n"
     ]
    }
   ],
   "source": [
    "# 1st day\n",
    "print(\"hello world\", 7)\n",
    "print (5)\n",
    "print(\"'Hello' \")\n",
    "print(32/2*8)"
   ]
  },
  {
   "cell_type": "code",
   "execution_count": 14,
   "metadata": {},
   "outputs": [
    {
     "name": "stdout",
     "output_type": "stream",
     "text": [
      "Hey i am a\" good boy\" \n",
      "  and i am  a python programer\n",
      "hello world!!!\n",
      "Hey~7~8\n",
      "Krishnendu~7~82003\n",
      "Ghosh\n"
     ]
    }
   ],
   "source": [
    " # 2nd day  comment ,escape sequence \n",
    " \n",
    " '''\n",
    " hey krish ,please dont remove thish line\n",
    " Author :Krish\n",
    " '''\n",
    "\"\"\"\n",
    " hey krish ,please dont remove thish line\n",
    " Author :Krish\n",
    "\"\"\"\n",
    "print (\"Hey i am a\\\" good boy\\\" \\n  and i am  a python programer\")\n",
    "print (\"hello world!!!\") # print\n",
    "print(\"Hey\", 7,8, sep=\"~\")\n",
    "print(\"Krishnendu\", 7,8,sep=\"~\", end=\"2003\\n\")\n",
    "print(\"Ghosh\")"
   ]
  },
  {
   "cell_type": "code",
   "execution_count": 15,
   "metadata": {},
   "outputs": [
    {
     "name": "stdout",
     "output_type": "stream",
     "text": [
      "123\n",
      "krish\n",
      "132.2\n",
      "The type of a is <class 'int'>\n",
      "The type of a is <class 'float'>\n",
      "The type of a is <class 'str'>\n",
      "The type of a is <class 'bool'>\n",
      "The type of a is <class 'NoneType'>\n",
      "The type of a is <class 'complex'>\n",
      "[8, 2.3, [-4, 5], ['apple', 'banana']]\n",
      "(('parrot', 'lion'), ('tigher', 'sparrow'))\n",
      "{'name': 'Gablu', 'age': 10, 'canvote': True}\n"
     ]
    }
   ],
   "source": [
    "# 3rd day variables and datatypes\n",
    "a=123\n",
    "print(a)\n",
    "a1=9.2\n",
    "b=\"krish\"\n",
    "c=True\n",
    "d=None\n",
    "e= complex (8,2)\n",
    "print(b)\n",
    "print(a+a1)\n",
    "print(\"The type of a is\",type(a))\n",
    "print(\"The type of a is\",type(a1))\n",
    "print(\"The type of a is\",type(b))\n",
    "print(\"The type of a is\",type(c))\n",
    "print(\"The type of a is\",type(d))\n",
    "print(\"The type of a is\",type(e))\n",
    "list =[ 8,2.3,[-4,5],[\"apple\",\"banana\"]]\n",
    "print(list)\n",
    "tuple = ((\"parrot\",\"lion\"),(\"tigher\",\"sparrow\"))\n",
    "print(tuple)\n",
    "dict ={\"name\":\"Gablu\",\"age\":10,\"canvote\":True}\n",
    "print(dict)\n",
    "\n"
   ]
  },
  {
   "cell_type": "code",
   "execution_count": 16,
   "metadata": {},
   "outputs": [
    {
     "name": "stdout",
     "output_type": "stream",
     "text": [
      "22\n",
      "8\n",
      "105\n",
      "2.142857142857143\n",
      "2\n",
      "1\n",
      "170859375\n"
     ]
    }
   ],
   "source": [
    "# calculator\n",
    "\n",
    "print(15+7)\n",
    "print(15-7)\n",
    "print(15*7)\n",
    "print(15/7)\n",
    "print(15//7) #floor division\n",
    "print(15%7) #modulu\n",
    "print(15**7)# exponential\n",
    "\n",
    "\n"
   ]
  },
  {
   "cell_type": "code",
   "execution_count": 17,
   "metadata": {},
   "outputs": [
    {
     "name": "stdout",
     "output_type": "stream",
     "text": [
      "The value of 50 + 34 is: 84\n",
      "The value of 50 - 34 is: 16\n",
      "The value of 50 * 34 is: 1700\n",
      "The value of 50 / 34 is: 1.4705882352941178\n"
     ]
    }
   ],
   "source": [
    "a = 50\n",
    "b = 34\n",
    "print(\"The value of\", a, \"+\", b, \"is:\", a + b)\n",
    "print(\"The value of\", a, \"-\", b, \"is:\", a - b)\n",
    "print(\"The value of\", a, \"*\", b, \"is:\", a * b)\n",
    "print(\"The value of\", a, \"/\", b, \"is:\", a / b)\n"
   ]
  },
  {
   "cell_type": "code",
   "execution_count": 18,
   "metadata": {},
   "outputs": [
    {
     "name": "stdout",
     "output_type": "stream",
     "text": [
      "3\n",
      "3.0\n",
      "the sum of both the number is: 22\n",
      "9.9\n",
      "<class 'int'>\n",
      "<class 'float'>\n",
      "10.0\n",
      "<class 'float'>\n"
     ]
    }
   ],
   "source": [
    "# Typecasting\n",
    "a=\"1\"\n",
    "a=1\n",
    "b=\"2\"\n",
    "b=2\n",
    "print (a+b)\n",
    "print(int(a)+float(b))\n",
    "string=\"15\"\n",
    "number=7\n",
    "string_number=int(string)\n",
    "sum=number + string_number\n",
    "print(\"the sum of both the number is:\",sum)\n",
    "\n",
    "#implicit typecasting\n",
    "c=1.9\n",
    "d=8\n",
    "print(c+d)\n",
    "a1=7\n",
    "print(type(a1))\n",
    "b1=3.0\n",
    "print(type(b1))\n",
    "c1=a1+b1\n",
    "print(c1)\n",
    "print(type(c1))\n",
    "\n"
   ]
  },
  {
   "cell_type": "code",
   "execution_count": 25,
   "metadata": {},
   "outputs": [
    {
     "name": "stdout",
     "output_type": "stream",
     "text": [
      "My name is krish\n",
      "10012\n",
      "112\n"
     ]
    }
   ],
   "source": [
    "# taking user input form user\n",
    "a=input()\n",
    "print(\"My name is\",a)\n",
    "x=input(\"Enter first number:\")\n",
    "y=input(\"Enter second number:\")\n",
    "print(x+y)\n",
    "print(int(x)+int(y))"
   ]
  }
 ],
 "metadata": {
  "kernelspec": {
   "display_name": ".venv",
   "language": "python",
   "name": "python3"
  },
  "language_info": {
   "codemirror_mode": {
    "name": "ipython",
    "version": 3
   },
   "file_extension": ".py",
   "mimetype": "text/x-python",
   "name": "python",
   "nbconvert_exporter": "python",
   "pygments_lexer": "ipython3",
   "version": "3.11.5"
  }
 },
 "nbformat": 4,
 "nbformat_minor": 2
}
