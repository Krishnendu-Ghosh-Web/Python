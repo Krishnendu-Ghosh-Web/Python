{
 "cells": [
  {
   "cell_type": "code",
   "execution_count": 1,
   "metadata": {},
   "outputs": [],
   "source": [
    "# Data type\n",
    "int=3,300,200\n",
    "float=2.3,4.6,100\n",
    "str=\"hello\",'krish',\"2000\",\"%$#\"\n",
    "list=[10,\"hello\",200.3]\n",
    "dict={\"mykey\":\"value\",\"name\":\"Title\"}\n",
    "tup=(10,\"hello\",200.3)\n",
    "set={\"a\",\"b\"}\n",
    "bool=True,False\n"
   ]
  },
  {
   "cell_type": "code",
   "execution_count": 11,
   "metadata": {},
   "outputs": [
    {
     "name": "stdout",
     "output_type": "stream",
     "text": [
      "['krishnendu', 'Ghosh']\n",
      "10.0\n"
     ]
    }
   ],
   "source": [
    "#numbers\n",
    "10*10\n",
    "#variable\n",
    "ny_name=2\n",
    "a=30.3\n",
    "my_name=[\"krishnendu\",\"Ghosh\"]\n",
    "print(my_name)\n",
    "type(a)\n",
    "my_income=100\n",
    "tax_rate=0.1\n",
    "my_taxes=my_income*tax_rate\n",
    "print(my_taxes)\n",
    "\n",
    "\n"
   ]
  },
  {
   "cell_type": "code",
   "execution_count": 16,
   "metadata": {},
   "outputs": [
    {
     "name": "stdout",
     "output_type": "stream",
     "text": [
      "helloworld\n",
      "i m' going on a run\n",
      "hello\n",
      "world\n",
      "hello\tworld\n"
     ]
    },
    {
     "data": {
      "text/plain": [
       "11"
      ]
     },
     "execution_count": 16,
     "metadata": {},
     "output_type": "execute_result"
    }
   ],
   "source": [
    "#strings\n",
    "print('hello'\"world\")\n",
    "print(\"i m' going on a run\")\n",
    "print(\"hello\\nworld\")#escape sequance\n",
    "print(\"hello\\tworld\")\n",
    "len(\"vhbfjdhfjdf\")\n"
   ]
  },
  {
   "cell_type": "code",
   "execution_count": 12,
   "metadata": {},
   "outputs": [
    {
     "name": "stdout",
     "output_type": "stream",
     "text": [
      "l\n",
      "klmnopqrstuvwxyz\n",
      "abc\n",
      "def\n",
      "ceg\n",
      "zyxwvutsrqponmlkjihgfedcba\n"
     ]
    }
   ],
   "source": [
    "# indexing and slicing\n",
    "mystring=\"helloworld\"\n",
    "print(mystring[2])\n",
    "letter=\"abcdefghijklmnopqrstuvwxyz\"\n",
    "print(letter[10:])\n",
    "print(letter[:3])\n",
    "print(letter[3:6])\n",
    "print(letter[2:7:2])\n",
    "print(letter[::-1])\n",
    "\n"
   ]
  },
  {
   "cell_type": "code",
   "execution_count": 41,
   "metadata": {},
   "outputs": [
    {
     "name": "stdout",
     "output_type": "stream",
     "text": [
      "nkur\n",
      "Bnkur\n",
      "I am a boy\n",
      "HELLO WORLD\n",
      "['Hello', 'World']\n"
     ]
    },
    {
     "data": {
      "text/plain": [
       "['H', ' th', 's ', 's a str', 'ng']"
      ]
     },
     "execution_count": 41,
     "metadata": {},
     "output_type": "execute_result"
    }
   ],
   "source": [
    "#string properties\n",
    "name=\"ankur\"\n",
    "#name[0]='B'\n",
    "last_lettres =name[1:5]\n",
    "print (last_lettres)\n",
    "print('B'+last_lettres) #concatination\n",
    "x=\"I am a \"\n",
    "x+\"boy\"\n",
    "x=x+\"boy\"\n",
    "print(x)\n",
    "letter=\"k\"\n",
    "letter*10\n",
    "2+3\n",
    "'2'+'3'\n",
    "y='Hello World'\n",
    "print(y.upper())\n",
    "print(y.split())\n",
    "z='Hi this is a string'\n",
    "z.split('i')\n",
    "\n",
    "\n"
   ]
  },
  {
   "cell_type": "code",
   "execution_count": 18,
   "metadata": {},
   "outputs": [
    {
     "name": "stdout",
     "output_type": "stream",
     "text": [
      "This is a string INSERTED\n",
      "The Quick Brown Fox \n",
      "The fox Brown Brown\n",
      "The result was      0.143\n",
      "Hello ,my name is krish\n",
      "Hello ,my name is krish\n",
      "Beda ankur is 23 years old.\n"
     ]
    }
   ],
   "source": [
    "#print formating with string\n",
    "print('This is a string {}'.format('INSERTED'))\n",
    "print('The {0} {1} {2} '.format('Quick','Brown','Fox'))\n",
    "print('The {f} {b} {b}'.format(f='fox',b='Brown',Q='quick'))\n",
    "result=100/700\n",
    "result\n",
    "print(\"The result was {r:10.3f}\".format(r=result))#\"{value:width.precision f}\"\n",
    "name=\"krish\"\n",
    "print('Hello ,my name is {}'.format(name))\n",
    "print(f'Hello ,my name is {name}')#fstring\n",
    "name=\"Beda ankur\"\n",
    "age=\"23\"\n",
    "print(f'{name} is {age} years old.')"
   ]
  },
  {
   "cell_type": "code",
   "execution_count": 24,
   "metadata": {},
   "outputs": [
    {
     "name": "stdout",
     "output_type": "stream",
     "text": [
      "3\n",
      "one\n",
      "['one', 'Two', 'Three', 'four', 'five']\n",
      "['ONE ALL CAPS', 'Two', 'Three', 'four', 'five']\n",
      "['ONE ALL CAPS', 'Two', 'Three', 'four', 'five', 'six']\n",
      "['ONE ALL CAPS', 'Two', 'Three', 'four', 'five', 'six', 'seven']\n",
      "['ONE ALL CAPS', 'Two', 'Three', 'four', 'five', 'six']\n",
      "six\n",
      "['ONE ALL CAPS', 'Two', 'Three', 'four', 'five']\n",
      "['Two', 'Three', 'four', 'five']\n",
      "['Two', 'Three', 'four']\n",
      "['a', 'a', 'a', 'c', 'h', 'n', 'r']\n",
      "[1, 3, 4, 8]\n",
      "[8, 4, 3, 1]\n"
     ]
    }
   ],
   "source": [
    "#list\n",
    "my_list=[1,2,3,4]\n",
    "my_list1=['string',100,23.3]\n",
    "print(len(my_list1))\n",
    "my_list=['one','Two','Three']\n",
    "print(my_list[0])\n",
    "my_list[1:]\n",
    "another_list=['four','five']\n",
    "new_list=my_list+another_list\n",
    "print(new_list)\n",
    "new_list[0]='ONE ALL CAPS'\n",
    "print(new_list)\n",
    "new_list.append('six')\n",
    "print(new_list)\n",
    "new_list.append('seven')\n",
    "print(new_list)\n",
    "new_list.pop()\n",
    "print(new_list)\n",
    "popped_item=new_list.pop()\n",
    "print(popped_item)\n",
    "print(new_list)\n",
    "new_list.pop(0)\n",
    "print(new_list)\n",
    "new_list.pop(-1)\n",
    "print(new_list)\n",
    "new_list=['r','a','c','h','a','n','a']\n",
    "num_list=[4,1,8,3]\n",
    "new_list.sort()\n",
    "print(new_list)\n",
    "num_list.sort()\n",
    "print(num_list)\n",
    "num_list.reverse()\n",
    "print(num_list)"
   ]
  },
  {
   "cell_type": "code",
   "execution_count": 49,
   "metadata": {},
   "outputs": [
    {
     "name": "stdout",
     "output_type": "stream",
     "text": [
      "{'key1': 'value1', 'key2': 'value2'}\n",
      "160.0\n",
      "2\n",
      "{'insidekey': 100}\n",
      "100\n",
      "['a', 'b', 'c']\n",
      "c\n",
      "c\n",
      "c\n",
      "{'k1': 100, 'k2': 200}\n",
      "{'k1': 100, 'k2': 200, 'k3': 300}\n",
      "dict_keys(['k1', 'k2', 'k3'])\n",
      "dict_values([100, 200, 300])\n",
      "dict_items([('k1', 100), ('k2', 200), ('k3', 300)])\n"
     ]
    }
   ],
   "source": [
    "#dictionaries\n",
    "my_dict={'key1':'value1','key2':'value2'}\n",
    "print(my_dict)\n",
    "my_dict['key1']\n",
    "price_lookup={'apple':160.0,'oranges':80.0,'milk':65}\n",
    "print(price_lookup['apple'])\n",
    "d = {'k1':123,'k2':[0,1,2],'k3':{'insidekey':100}}\n",
    "print(d['k2'][2])\n",
    "print(d['k3'])\n",
    "print(d['k3']['insidekey'])\n",
    "d={'key1':['a','b','c']}\n",
    "mylist=d['key1']\n",
    "print(mylist)\n",
    "letter=mylist[2]\n",
    "print(letter)\n",
    "letter.upper()\n",
    "print(letter)\n",
    "print(d['key1'][2].lower())\n",
    "d={'k1':100,'k2':200}\n",
    "print(d)\n",
    "d['k3']=300\n",
    "print(d)\n",
    "d={'k1': 100, 'k2': 200, 'k3': 300}\n",
    "print(d.keys())\n",
    "print(d.values())\n",
    "print(d.items())\n",
    "\n",
    "\n"
   ]
  },
  {
   "cell_type": "code",
   "execution_count": 25,
   "metadata": {},
   "outputs": [
    {
     "name": "stdout",
     "output_type": "stream",
     "text": [
      "<class 'tuple'>\n",
      "<class 'list'>\n",
      "3\n",
      "2\n",
      "3\n",
      "3\n",
      "[1, 2, 3]\n",
      "['new', 2, 3]\n"
     ]
    }
   ],
   "source": [
    "#tuples\n",
    "t=(1,2,3)\n",
    "mylist=[1,2,3]\n",
    "print(type(t))\n",
    "print(type(mylist))\n",
    "print(len(t))\n",
    "t=('one',2)\n",
    "print(t[-1])\n",
    "t=('k','r','i','s','h','n','e','n','d','u','g','h','o','s','h')\n",
    "print(t.count('h'))\n",
    "print(t.index('s'))\n",
    "print(mylist)\n",
    "mylist[0]='new'\n",
    "print(mylist)\n",
    "\n",
    "\n",
    "\n"
   ]
  },
  {
   "cell_type": "code",
   "execution_count": 57,
   "metadata": {},
   "outputs": [
    {
     "name": "stdout",
     "output_type": "stream",
     "text": [
      "<class 'set'>\n",
      "{1, 2, 3, 21}\n",
      "{1, 2, 3, 21, -3}\n",
      "{1, 2, 3, 4, 5, 6}\n"
     ]
    }
   ],
   "source": [
    "#sets\n",
    "x={1,2,3}\n",
    "print(type(x))\n",
    "x.add(21)\n",
    "print(x)\n",
    "x.add(-3)\n",
    "print(x)\n",
    "mylist=[1,2,2,3,3,3,4,4,4,4,5,5,5,5,5,6,6,6,6,6,6]\n",
    "print(set(mylist))\n"
   ]
  },
  {
   "cell_type": "code",
   "execution_count": 43,
   "metadata": {},
   "outputs": [
    {
     "name": "stdout",
     "output_type": "stream",
     "text": [
      "<class 'bool'>\n",
      "False\n",
      "True\n"
     ]
    }
   ],
   "source": [
    "# booleans\n",
    "False\n",
    "print(type(True))\n",
    "print(1>2)\n",
    "print(1==1)\n",
    "\n"
   ]
  },
  {
   "cell_type": "code",
   "execution_count": 82,
   "metadata": {},
   "outputs": [
    {
     "name": "stdout",
     "output_type": "stream",
     "text": [
      "Hello this is a text file\n",
      "This is the second line\n",
      "This is the third line\n",
      "\n",
      "\n",
      "0\n",
      "Hello this is a text file\n",
      "This is the second line\n",
      "This is the third line\n",
      "\n"
     ]
    },
    {
     "data": {
      "text/plain": [
       "[]"
      ]
     },
     "execution_count": 82,
     "metadata": {},
     "output_type": "execute_result"
    }
   ],
   "source": [
    "# i/o with basic .txt files\n",
    "#%%writefile myfile.txt\n",
    "#Hello this is a text file\n",
    "#this is the second line\n",
    "#this is third line\n",
    "with open(\"myfile.txt\", \"w\") as file:\n",
    "    file.write(\"Hello this is a text file\\n\")\n",
    "    file.write(\"This is the second line\\n\")\n",
    "    file.write(\"This is the third line\\n\")\n",
    "    myfile = open('myfile.txt')\n",
    "%pwd # indicate location\n",
    "myfile=open('myfile.txt')\n",
    "print(myfile.read())\n",
    "print(myfile.read())\n",
    "print(myfile.seek(0))\n",
    "contents=myfile.read()\n",
    "print(contents)\n",
    "myfile.readlines()\n",
    "\n",
    "\n",
    "    "
   ]
  },
  {
   "cell_type": "code",
   "execution_count": 92,
   "metadata": {},
   "outputs": [
    {
     "name": "stdout",
     "output_type": "stream",
     "text": [
      "\n",
      "\n"
     ]
    }
   ],
   "source": [
    "#file location\n",
    "%pwd\n",
    "myfile.close()\n",
    "with open ('myfile.txt') as my_new_file:\n",
    "    contents = my_new_file.read()\n",
    "    print(contents)\n",
    "with open ('myfile.txt',mode='r') as myfile:\n",
    "    contents = myfile.read()\n",
    "    print(contents)\n",
    "        \n"
   ]
  },
  {
   "cell_type": "code",
   "execution_count": 106,
   "metadata": {},
   "outputs": [
    {
     "name": "stdout",
     "output_type": "stream",
     "text": [
      "Overwriting my_new_file.txt\n"
     ]
    }
   ],
   "source": [
    "%%writefile my_new_file.txt\n",
    "ONE OR FIRST\n",
    "TWO OR SECOND\n",
    "THREE OR THIRD\n"
   ]
  },
  {
   "cell_type": "code",
   "execution_count": 110,
   "metadata": {},
   "outputs": [],
   "source": [
    "with open ('my_new_file.txt',mode='a') as f:\n",
    "    f.write('\\n FOUR ON FOURTH')\n",
    "    "
   ]
  },
  {
   "cell_type": "code",
   "execution_count": 114,
   "metadata": {},
   "outputs": [
    {
     "name": "stdout",
     "output_type": "stream",
     "text": [
      "ONE OR FIRST\n",
      "TWO OR SECOND\n",
      "THREE OR THIRD\n",
      "FOUR ON FOURTHFOUR ON FOURTH\n",
      " FOUR ON FOURTH\n"
     ]
    }
   ],
   "source": [
    "with open ('my_new_file.txt',mode='r') as f:\n",
    "    print(f.read())"
   ]
  },
  {
   "cell_type": "code",
   "execution_count": 126,
   "metadata": {},
   "outputs": [],
   "source": [
    "with open ('Ram',mode='w') as f:\n",
    "    f.write('I CAN CREAT THIS FILE')\n",
    "    "
   ]
  },
  {
   "cell_type": "code",
   "execution_count": 127,
   "metadata": {},
   "outputs": [
    {
     "name": "stdout",
     "output_type": "stream",
     "text": [
      "I CAN CREAT THIS FILE\n"
     ]
    }
   ],
   "source": [
    "with open ('Ram',mode='r') as f:\n",
    "    print(f.read())"
   ]
  },
  {
   "cell_type": "code",
   "execution_count": 13,
   "metadata": {},
   "outputs": [
    {
     "name": "stdout",
     "output_type": "stream",
     "text": [
      "False\n",
      "True\n",
      "False\n",
      "True\n",
      "False\n",
      "False\n",
      "False\n",
      "True\n",
      "False\n",
      "True\n"
     ]
    }
   ],
   "source": [
    "#comparison operator\n",
    "print('2'==2)\n",
    "print(2.0 == 2)\n",
    "print(3!=3)\n",
    "print(4!=5)\n",
    "print(1>2)\n",
    "print(4<=1)\n",
    "#logical operator\n",
    "print(1<2>3)\n",
    "print(1<2 and 2<3)\n",
    "print(100 ==1 or 2 ==200)\n",
    "print(not 400>5000)"
   ]
  },
  {
   "cell_type": "code",
   "execution_count": 14,
   "metadata": {},
   "outputs": [
    {
     "name": "stdout",
     "output_type": "stream",
     "text": [
      "im not hungry\n",
      "i do not know much.\n",
      "Money is coll!\n",
      "hello krishnendu\n"
     ]
    }
   ],
   "source": [
    "#if ,elif,else statement\n",
    "hungry=False\n",
    "if hungry:\n",
    "    print(\"Feed Me!\")\n",
    "else:\n",
    "    print(\"im not hungry\")\n",
    "#----------------------------    \n",
    "loc='bank'\n",
    "if loc=='Auto shop':\n",
    "    print(\"cars are coll!\")\n",
    "else:\n",
    "    print(\"i do not know much.\") \n",
    "#---------------------------------\n",
    "loc=\"bank\"\n",
    "if loc==\"auto shop\":\n",
    "    print(\"cars are coll\")\n",
    "elif loc==\"bank\":\n",
    "    print(\"Money is coll!\")\n",
    "elif loc==\"store\":\n",
    "    print(\"welcome to the store\")\n",
    "else:\n",
    "    print(\"i do not know nuch more\")     \n",
    "#-------------------------------------\n",
    "name=\"krishnendu\"   \n",
    "if name == \"shukhendu\":\n",
    "    print(\"hello shukhendu\")\n",
    "elif name ==\"krishnendu\":\n",
    "    print(\"hello krishnendu\")\n",
    "else:\n",
    "    print(\"what is your name ?\")\n",
    "    \n"
   ]
  },
  {
   "cell_type": "code",
   "execution_count": null,
   "metadata": {},
   "outputs": [],
   "source": [
    "# for loop\n",
    "mylist=[1,2,3,4,5,6,7,8,9,10]\n",
    "for num in mylist:\n",
    "    print(num)\n",
    "# only even num\n",
    "for num in mylist:\n",
    "    if num%2==0:\n",
    "        print(num)\n",
    "    else:\n",
    "        print(f'odd number:{num}')\n",
    "# sum of list\n",
    "list_sum=0\n",
    "for num in mylist:\n",
    "    list_sum = list_sum+ num\n",
    "print(list_sum)    \n",
    "#-------------------\n",
    "mystring=\"Beda Ankur\"\n",
    "for letter in mystring:\n",
    "    print(letter)\n",
    "# ------------\n",
    "tup=(1,2,3)\n",
    "for item in tup:\n",
    "    print(item)  \n",
    "#------------\n",
    "mylist=[(1,2,3),(5,6,7),(8,9,10)]\n",
    "len(mylist)\n",
    "for item in mylist:\n",
    "    print(item)\n",
    "for a,b,c in mylist:\n",
    "    print(c)\n",
    "#------------------------\n",
    "d={'k1':1,'k2':2,'k3':3}\n",
    "for value in d.values():\n",
    "    print(value)    \n",
    "\n",
    "    "
   ]
  },
  {
   "cell_type": "code",
   "execution_count": 13,
   "metadata": {},
   "outputs": [
    {
     "name": "stdout",
     "output_type": "stream",
     "text": [
      "The current value of x is 0\n",
      "The current value of x is 1\n",
      "The current value of x is 2\n",
      "The current value of x is 3\n",
      "The current value of x is 4\n",
      "x is not less than 5\n",
      "end of my script\n",
      "k\n",
      "i\n",
      "s\n",
      "h\n",
      "B\n",
      "e\n",
      "d\n",
      "0\n",
      "1\n"
     ]
    }
   ],
   "source": [
    "#while loop\n",
    "x=0\n",
    "while x<5:\n",
    "    print(f'The current value of x is {x}')\n",
    "    #x=x+1\n",
    "    x +=1\n",
    "else:\n",
    "    print(\"x is not less than 5\")\n",
    "# break,continue,pass keyword\n",
    "x=[1,2,3]\n",
    "for item in x:\n",
    "    pass\n",
    "print(\"end of my script\")\n",
    "#----------------\n",
    "mystring=\"krish\"\n",
    "for letter in mystring:\n",
    "    if letter ==\"r\":\n",
    "        continue\n",
    "    print(letter)\n",
    "#----------------------\n",
    "name=\"Beda ankur \"\n",
    "for letter in name:\n",
    "    if letter ==\"a\":\n",
    "        break\n",
    "    print(letter)  \n",
    "#-------------------\n",
    "x=0\n",
    "while x<5:\n",
    "    if x==2:\n",
    "        break\n",
    "    print(x)\n",
    "    x=x+1      \n",
    "    "
   ]
  },
  {
   "cell_type": "code",
   "execution_count": null,
   "metadata": {},
   "outputs": [],
   "source": [
    "#useful operators\n",
    "for num in range(0,11,2):\n",
    "    print(num)\n",
    "print(list(range(0,11,2)))\n",
    "#-------------------------------\n",
    "index_count=0\n",
    "word=\"abcde\"\n",
    "for letter in word :\n",
    "    print('At index{} the letter is {}'.format(index_count,letter))\n",
    "    index_count+=1\n",
    "#------------------------------\n",
    "for item in enumerate(word):\n",
    "    print(item)\n",
    "#------------------------------------\n",
    "word=\"abcde\"\n",
    "for index,letter in enumerate(word):\n",
    "    print(index)\n",
    "    print(letter)\n",
    "    print(\"\\n\")    \n",
    "#--------------------------------\n",
    "mylist1=[1,2,3]\n",
    "mylist2=['a','b','c']\n",
    "mylist3=[100,200,300]\n",
    "for item in  zip(mylist1,mylist2,mylist3):\n",
    "     print(item)\n",
    "list(zip(mylist1,mylist2)) \n",
    "#------------------------------- \n",
    "print('x'in [1,2,3])   \n",
    "print('x' in ['x','y','z'])\n",
    "print('a' in 'a world')\n",
    "print('mykey' in {'mykey':345})\n",
    "d={'mykey':345}\n",
    "345 in d.keys()\n",
    "#---------------------------\n",
    "mylist=[10,20,30,40,50,60,70,80,90,100]\n",
    "print(min(mylist))\n",
    "print(max(mylist))\n",
    "#-----------------------------------\n",
    "from random import shuffle\n",
    "mylist =[1,2,3,4,5,6,7,8,9,10]\n",
    "shuffle(mylist)\n",
    "mylist\n",
    "#----------------------------------\n",
    "input(\"enter a number here\")\n",
    "result=input('My name is')\n",
    "result"
   ]
  },
  {
   "cell_type": "code",
   "execution_count": 32,
   "metadata": {},
   "outputs": [
    {
     "name": "stdout",
     "output_type": "stream",
     "text": [
      "['h', 'e', 'l', 'l', 'o']\n",
      "['h', 'e', 'l', 'l', 'o']\n",
      "['h', 'e', 'l', 'l', 'o']\n",
      "[0, 1, 2, 3, 4, 5, 6, 7, 8, 9, 10]\n",
      "[0, 1, 4, 9, 16, 25, 36, 49, 64, 81, 100]\n",
      "[0, 4, 16, 36, 64, 100]\n",
      "[32.0, 50.0, 68.0, 94.1]\n",
      "[32.0, 50.0, 68.0, 94.1]\n",
      "[0, 'odd', 2, 'odd', 4, 'odd', 6, 'odd', 8, 'odd', 10]\n",
      "[2, 20, 200, 4, 40, 400, 6, 60, 600]\n",
      "[2, 1024, 1267650600228229401496703205376, 4, 1048576, 1606938044258990275541962092341162602522202993782792835301376, 6, 60466176, 653318623500070906096690267158057820537143710472954871543071966369497141477376]\n"
     ]
    }
   ],
   "source": [
    "#list comprehensions\n",
    "mystring=\"hello\"\n",
    "mylist=[]\n",
    "for letter in mystring:\n",
    "    mylist.append(letter)\n",
    "print(mylist) \n",
    "#---------------------------------\n",
    "mylist=[letter for letter in mystring] \n",
    "print(mylist)\n",
    "#---------------------------  \n",
    "myist=[x for x in \"word\"]\n",
    "print(mylist)\n",
    "#------------------------\n",
    "mylist=[ num for num in  range(0,11)]\n",
    "print(mylist)\n",
    "#----------------------------------\n",
    "mylist=[ num**2 for num in  range(0,11)]# suars of number in a range\n",
    "print(mylist)\n",
    "#===================================================\n",
    "mylist = [x**2 for x in range(0, 11) if x % 2 == 0]\n",
    "print(mylist) \n",
    "#============================\n",
    "celcius=[0,10,20,34.5]\n",
    "fahrenheit=[((9/5)* temp +32) for temp in celcius]\n",
    "print(fahrenheit)\n",
    "fahrenheit=[]\n",
    "for temp in celcius:\n",
    "    fahrenheit.append(((9/5)*temp+32))\n",
    "print(fahrenheit)    \n",
    "#--------------------------------\n",
    "result=[ x if x%2==0 else 'odd' for x in range (0,11)]\n",
    "print(result)\n",
    "mylist =[]\n",
    "for x in [2,4,6]:\n",
    "    for y in [1,10,100]:\n",
    "        mylist.append(x*y)\n",
    "print(mylist) \n",
    "#-------------------------------  \n",
    "mylist=[x**y for x in [2,4,6] for y in [1,10,100]]\n",
    "print (mylist)     \n",
    "#-------------------\n"
   ]
  }
 ],
 "metadata": {
  "kernelspec": {
   "display_name": ".venv",
   "language": "python",
   "name": "python3"
  },
  "language_info": {
   "codemirror_mode": {
    "name": "ipython",
    "version": 3
   },
   "file_extension": ".py",
   "mimetype": "text/x-python",
   "name": "python",
   "nbconvert_exporter": "python",
   "pygments_lexer": "ipython3",
   "version": "3.11.5"
  }
 },
 "nbformat": 4,
 "nbformat_minor": 2
}
