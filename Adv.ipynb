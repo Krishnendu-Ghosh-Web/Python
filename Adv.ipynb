{
 "cells": [
  {
   "cell_type": "code",
   "execution_count": 26,
   "metadata": {},
   "outputs": [
    {
     "name": "stdout",
     "output_type": "stream",
     "text": [
      "Peter\n",
      "['k', 'r', 'i', 's', 'h']\n",
      "deque(['k', 'r', 'i', 's', 'h', 'n'])\n",
      "deque(['Mrs', 'k', 'r', 'i', 's', 'h', 'n'])\n",
      "deque(['Mrs', 'k', 'r', 'i', 's', 'h'])\n",
      "deque(['Mrs', 'k', 'r', 's', 'h'])\n",
      "ChainMap({1: 'Good', 2: 'Morning'}, {3: 'Good', 4: 'Evening'})\n",
      "Counter({1: 7, 2: 5, 3: 3, 4: 3, 8: 3, 5: 1, 6: 1})\n",
      "[1, 1, 1, 1, 1, 1, 1, 2, 2, 2, 2, 2, 3, 3, 3, 4, 4, 4, 5, 6, 8, 8, 8]\n",
      "[(1, 7), (2, 5), (3, 3), (4, 3), (8, 3), (5, 1), (6, 1)]\n",
      "None\n",
      "Counter({1: 7, 2: 4, 3: 3, 4: 3, 8: 3, 5: 1, 6: 0})\n",
      "OrderedDict([(1, 'K'), (2, 'R'), (3, 'I'), (4, 'S'), (5, 'H')])\n",
      "0\n"
     ]
    }
   ],
   "source": [
    "#collection Module\n",
    "from collections import namedtuple\n",
    "Student = namedtuple('Student', 'fname, lname, age')  \n",
    "s1 = Student('Peter', 'James', '13')  \n",
    "print(s1.fname) \n",
    "#deque\n",
    "from collections import deque\n",
    "a=['k','r','i','s','h']\n",
    "d=deque(a)\n",
    "print(a)\n",
    "d.append('n')\n",
    "print(d)\n",
    "d.appendleft('Mrs')\n",
    "print(d)\n",
    "d.pop()\n",
    "print(d)\n",
    "d.remove('i')\n",
    "print(d)\n",
    "#chainmap\n",
    "from collections import ChainMap\n",
    "a={1:'Good',2:'Morning'}\n",
    "b={3:'Good',4:'Evening'}\n",
    "a1=ChainMap(a,b)\n",
    "print(a1)\n",
    "#counter\n",
    "from collections import Counter\n",
    "a=[1,1,2,3,2,2,4,5,4,3,6,2,8,1,8,1,3,8,1,1,4,2,1]\n",
    "c=Counter(a)\n",
    "print(c)\n",
    "print(list(c.elements()))\n",
    "print(c.most_common())\n",
    "sub={2:1,6:1}\n",
    "print(c.subtract(sub))\n",
    "print(c)\n",
    "#orderedDict\n",
    "from collections import OrderedDict\n",
    "d=OrderedDict()\n",
    "d[1]='K'\n",
    "d[2]='R'\n",
    "d[3]='I'\n",
    "d[4]='S'\n",
    "d[5]='H'\n",
    "print(d)\n",
    "#defaultDict\n",
    "from collections import defaultdict\n",
    "d=defaultdict(int)\n",
    "d[1]='Ram'\n",
    "d[2]='Shyam'\n",
    "print(d[3])\n",
    "#UserDict,UseList,UserString\n"
   ]
  },
  {
   "cell_type": "code",
   "execution_count": 21,
   "metadata": {},
   "outputs": [
    {
     "name": "stdout",
     "output_type": "stream",
     "text": [
      "c:\\Users\\bkris\\Desktop\\python\n",
      "['Day 1', 'Day 10', 'Day 2', 'Day 3', 'Day 4', 'Day 5', 'Day 6', 'Day 7', 'Day 8', 'Day 9']\n",
      "Day 1\n",
      "['1.exe']\n",
      "Day 10\n",
      "[]\n",
      "Day 2\n",
      "[]\n",
      "Day 3\n",
      "[]\n",
      "Day 4\n",
      "[]\n",
      "Day 5\n",
      "[]\n",
      "Day 6\n",
      "[]\n",
      "Day 7\n",
      "[]\n",
      "Day 8\n",
      "[]\n",
      "Day 9\n",
      "[]\n",
      "['DirEntry', 'EX_OK', 'F_OK', 'GenericAlias', 'Mapping', 'MutableMapping', 'O_APPEND', 'O_BINARY', 'O_CREAT', 'O_EXCL', 'O_NOINHERIT', 'O_RANDOM', 'O_RDONLY', 'O_RDWR', 'O_SEQUENTIAL', 'O_SHORT_LIVED', 'O_TEMPORARY', 'O_TEXT', 'O_TRUNC', 'O_WRONLY', 'P_DETACH', 'P_NOWAIT', 'P_NOWAITO', 'P_OVERLAY', 'P_WAIT', 'PathLike', 'R_OK', 'SEEK_CUR', 'SEEK_END', 'SEEK_SET', 'TMP_MAX', 'W_OK', 'X_OK', '_AddedDllDirectory', '_Environ', '__all__', '__builtins__', '__doc__', '__file__', '__loader__', '__name__', '__package__', '__spec__', '_check_methods', '_execvpe', '_exists', '_exit', '_fspath', '_get_exports_list', '_walk', '_wrap_close', 'abc', 'abort', 'access', 'add_dll_directory', 'altsep', 'chdir', 'chmod', 'close', 'closerange', 'cpu_count', 'curdir', 'defpath', 'device_encoding', 'devnull', 'dup', 'dup2', 'environ', 'error', 'execl', 'execle', 'execlp', 'execlpe', 'execv', 'execve', 'execvp', 'execvpe', 'extsep', 'fdopen', 'fsdecode', 'fsencode', 'fspath', 'fstat', 'fsync', 'ftruncate', 'get_exec_path', 'get_handle_inheritable', 'get_inheritable', 'get_terminal_size', 'getcwd', 'getcwdb', 'getenv', 'getlogin', 'getpid', 'getppid', 'isatty', 'kill', 'linesep', 'link', 'listdir', 'lseek', 'lstat', 'makedirs', 'mkdir', 'name', 'open', 'pardir', 'path', 'pathsep', 'pipe', 'popen', 'putenv', 'read', 'readlink', 'remove', 'removedirs', 'rename', 'renames', 'replace', 'rmdir', 'scandir', 'sep', 'set_handle_inheritable', 'set_inheritable', 'spawnl', 'spawnle', 'spawnv', 'spawnve', 'st', 'startfile', 'stat', 'stat_result', 'statvfs_result', 'strerror', 'supports_bytes_environ', 'supports_dir_fd', 'supports_effective_ids', 'supports_fd', 'supports_follow_symlinks', 'symlink', 'sys', 'system', 'terminal_size', 'times', 'times_result', 'truncate', 'umask', 'uname_result', 'unlink', 'unsetenv', 'urandom', 'utime', 'waitpid', 'waitstatus_to_exitcode', 'walk', 'write']\n"
     ]
    }
   ],
   "source": [
    "#Opening and Reading Files and Folders (Python OS Module)\n",
    "import os\n",
    "if ( not os.path.exists(\"projects\")):\n",
    "    \n",
    " os.mkdir(\"projects\")\n",
    "for i in range(0,10):\n",
    "    os.rename(f\"projects/Day{i+1}\",f\"Projects/Day {i+1}\")\n",
    "folder=os.listdir(\"projects\")   \n",
    "print(os.getcwd()) \n",
    "print(folder)\n",
    "for folder in folder:\n",
    "    print(folder)\n",
    "    print(os.listdir(f\"projects/{folder}\"))\n",
    "print(dir(os))\n"
   ]
  },
  {
   "cell_type": "code",
   "execution_count": 5,
   "metadata": {},
   "outputs": [
    {
     "name": "stdout",
     "output_type": "stream",
     "text": [
      "2023-12-19 17:35:43.062814\n",
      "2003-07-08 00:00:00\n",
      "23\n",
      "December\n",
      "12\n",
      "2023\n",
      "17\n",
      "05\n",
      "PM\n",
      "35\n"
     ]
    }
   ],
   "source": [
    "#Python Datetime Module\n",
    "import datetime\n",
    "Today=datetime.datetime.now()\n",
    "print(Today)\n",
    "x=datetime.datetime(2003,7,8)\n",
    "print(x)\n",
    "x =datetime.datetime.now()\n",
    "m=x.strftime(\"%B\")\n",
    "n=x.strftime(\"%m\")\n",
    "o=x.strftime(\"%y\")\n",
    "p=x.strftime(\"%Y\")\n",
    "q=x.strftime(\"%H\")\n",
    "r=x.strftime(\"%I\")\n",
    "s=x.strftime(\"%p\")\n",
    "t=x.strftime(\"%M\")\n",
    "print(o)\n",
    "print(m)\n",
    "print(n)\n",
    "print(p)\n",
    "print(q)\n",
    "print(r)\n",
    "print(s)\n",
    "print(t)\n",
    "\n",
    "\n"
   ]
  },
  {
   "cell_type": "code",
   "execution_count": 30,
   "metadata": {},
   "outputs": [
    {
     "name": "stdout",
     "output_type": "stream",
     "text": [
      "10\n",
      "4\n",
      "Bananna\n",
      "0.16541446821533745\n",
      "[15, 225, 2, 10]\n",
      "3.0101827908631793\n",
      "11\n",
      "10\n",
      "23.0\n",
      "120\n",
      "100.0\n",
      "4.0\n"
     ]
    }
   ],
   "source": [
    "#Python  Random Module\n",
    "import random\n",
    "print(random.randint(5,10))\n",
    "print(random.randrange(3,9))\n",
    "i=[\"apple\",\"Bananna\",\"Cherry\"]\n",
    "print(random.choice(i))\n",
    "r=random.random()\n",
    "print(r)\n",
    "L=[10,15,2,225]\n",
    "random.shuffle(L)\n",
    "print(L)\n",
    "u=random.uniform(3,9)\n",
    "print(u)\n",
    "#------------Math Module\n",
    "import math\n",
    "x=10.3\n",
    "print(math.ceil(x))\n",
    "a=10.1\n",
    "print(math.floor(a))\n",
    "y=-23\n",
    "print(math.fabs(y))\n",
    "z=5\n",
    "print(math.factorial(z))\n",
    "l=[10,20,30,40]\n",
    "print(math.fsum(l))\n",
    "print(math.sqrt(16))"
   ]
  },
  {
   "cell_type": "code",
   "execution_count": null,
   "metadata": {},
   "outputs": [],
   "source": [
    "#Python Debug\n",
    "import pdb\n",
    "pdb.set_trace()\n",
    "num1=int(input(\"Enter First number\"))\n",
    "num2=int(input(\"Enter 2nd num\"))\n",
    "add=num1+num2\n",
    "print(f'Addition  is:- {add}')"
   ]
  },
  {
   "cell_type": "code",
   "execution_count": 36,
   "metadata": {},
   "outputs": [
    {
     "name": "stdout",
     "output_type": "stream",
     "text": [
      "['0', '1', '2', '3', '4', '5', '6', '7', '8', '9']\n",
      "['0', '1', '2', '3', '4', '5', '6', '7', '8', '9']\n",
      "0.0\n",
      "0.0\n",
      "0.5136140999966301\n",
      "0.5258604999980889\n"
     ]
    },
    {
     "name": "stderr",
     "output_type": "stream",
     "text": [
      "UsageError: Line magic function `%%timeit` not found.\n"
     ]
    }
   ],
   "source": [
    "#Timing Your Python Code\n",
    "def func_one(n):\n",
    "    return [str(num)for num  in range(n)]\n",
    "print(func_one(10))\n",
    "def func_two(n):\n",
    "    return list(map(str,range(n)))\n",
    "print(func_two(10))\n",
    "import time \n",
    "#current time before\n",
    "start_time=time.time()\n",
    "#Run code\n",
    "result=func_one(100)\n",
    "#Current time After runing code\n",
    "end_time=time.time()\n",
    "#Elapsed Time\n",
    "elapsed_time=end_time-start_time\n",
    "print(elapsed_time)\n",
    "#current time before\n",
    "start_time=time.time()\n",
    "#Run code\n",
    "result=func_two(100)\n",
    "#Current time After runing code\n",
    "end_time=time.time()\n",
    "#Elapsed Time\n",
    "elapsed_time=end_time-start_time\n",
    "print(elapsed_time)\n",
    "\n",
    "import timeit\n",
    "stmt='''\n",
    "func_one(100)\n",
    "'''\n",
    "setup='''\n",
    "def func_one(n):\n",
    "    return [str(num)for num  in range(n)]\n",
    "'''\n",
    "print(timeit.timeit(stmt,setup,number=100000))\n",
    "\n",
    "stmt2='''\n",
    "func_two(100)\n",
    "'''\n",
    "setup2='''\n",
    "def func_two(n):\n",
    "    return [str(num)for num  in range(n)]\n",
    "'''\n",
    "print(timeit.timeit(stmt2,setup2,number=100000))\n",
    "\n",
    "%%timeit\n",
    "func_one(100)\n"
   ]
  },
  {
   "cell_type": "code",
   "execution_count": 41,
   "metadata": {},
   "outputs": [
    {
     "data": {
      "text/plain": [
       "'c:\\\\Users\\\\bkris\\\\Desktop\\\\python'"
      ]
     },
     "execution_count": 41,
     "metadata": {},
     "output_type": "execute_result"
    }
   ],
   "source": [
    "#Zipping and Unzipping files with Python\n",
    "f=open('Krish.txt','w+')\n",
    "f.write('Hello my name is Krishnendu Ghosh')\n",
    "f.close()\n",
    "f=open('Krish1.txt','w+')\n",
    "f.write('Hello my name is Krishnendu Ghosh ,i am form west Bengal')\n",
    "f.close()\n",
    "import zipfile\n",
    "comp_file=zipfile.ZipFile('comp_file.zip','w')\n",
    "comp_file.write('Krish.txt',compress_type=zipfile.ZIP_DEFLATED)\n",
    "comp_file.write('Krish1.txt',compress_type=zipfile.ZIP_DEFLATED)\n",
    "comp_file.close()\n",
    "zip_obj=zipfile.ZipFile('comp_file.zip','r')\n",
    "zip_obj.extractall('extracted_contained')\n",
    "%pwd"
   ]
  }
 ],
 "metadata": {
  "kernelspec": {
   "display_name": ".venv",
   "language": "python",
   "name": "python3"
  },
  "language_info": {
   "codemirror_mode": {
    "name": "ipython",
    "version": 3
   },
   "file_extension": ".py",
   "mimetype": "text/x-python",
   "name": "python",
   "nbconvert_exporter": "python",
   "pygments_lexer": "ipython3",
   "version": "3.11.5"
  }
 },
 "nbformat": 4,
 "nbformat_minor": 2
}
