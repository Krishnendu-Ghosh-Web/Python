{
 "cells": [
  {
   "cell_type": "code",
   "execution_count": 12,
   "metadata": {},
   "outputs": [
    {
     "name": "stdout",
     "output_type": "stream",
     "text": [
      "lab\n",
      "beda\n",
      "False\n"
     ]
    }
   ],
   "source": [
    "# attribiutes and class keyword\n",
    "mylist=[1,2,3]\n",
    "myset=set()\n",
    "type(myset)\n",
    "type(mylist)\n",
    "#------------------\n",
    "class sample():\n",
    "    pass \n",
    "my_sample =sample()\n",
    "type(my_sample)\n",
    "#------------------\n",
    "class Dog():\n",
    "    def __init__(self,breed):\n",
    "        self.breed=breed\n",
    "my_dog=Dog(breed='Lab') \n",
    "type(my_dog)\n",
    "my_dog.breed \n",
    "#-------------------\n",
    "class Dog():\n",
    "    def __init__(self,mybreed):\n",
    "        self.my_attribute=mybreed\n",
    "my_dog=Dog(mybreed='Krish')\n",
    "my_dog.my_attribute   \n",
    "#----------------------------\n",
    "class Dog():\n",
    "    def __init__(self,breed,name,spots):\n",
    "        self.breed=breed\n",
    "        self.name=name\n",
    "        self.spots=spots\n",
    "my_dog=Dog(breed='lab',name='beda',spots=False)\n",
    "print(my_dog.breed) \n",
    "print(my_dog.name)\n",
    "print(my_dog.spots)\n",
    " "
   ]
  },
  {
   "cell_type": "code",
   "execution_count": 11,
   "metadata": {},
   "outputs": [
    {
     "name": "stdout",
     "output_type": "stream",
     "text": [
      "lab\n",
      "beda\n",
      "False\n",
      "mammal\n",
      "hello! My name is Krish and  my number is 7 \n"
     ]
    },
    {
     "data": {
      "text/plain": [
       "188.4"
      ]
     },
     "execution_count": 11,
     "metadata": {},
     "output_type": "execute_result"
    }
   ],
   "source": [
    "# class object attributes and methode\n",
    "class Dog():\n",
    "    species = 'mammal'\n",
    "\n",
    "    def __init__(self, breed, name, spots):\n",
    "        self.breed = breed\n",
    "        self.name = name\n",
    "        self.spots = spots\n",
    "\n",
    "my_dog = Dog(breed='lab', name='beda', spots=False)\n",
    "print(my_dog.breed)\n",
    "print(my_dog.name)\n",
    "print(my_dog.spots)\n",
    "print(my_dog.species)\n",
    "# methode\n",
    "class Dog():\n",
    "    species='Amimal'\n",
    "    def __init__(self,breed,name):\n",
    "        self.breed=breed\n",
    "        self.name=name\n",
    "    def bark(self,number):\n",
    "        print(\"hello! My name is {} and  my number is {} \".format(self.name, number))\n",
    "my_dog=Dog('Lab','Krish')        \n",
    "my_dog.species           \n",
    "my_dog.bark(7)\n",
    "#------------------\n",
    "class circle():\n",
    "    pi=3.14\n",
    "    def __init__(self,radius=1):\n",
    "        self.radius=radius\n",
    "        self.area=radius*radius*self.pi\n",
    "    def get_circumfrence(self):\n",
    "          return self.radius*circle.pi*2 \n",
    "my_circle=circle(30)\n",
    "my_circle.pi\n",
    "my_circle.radius\n",
    "my_circle.area\n",
    "my_circle.get_circumfrence()\n",
    "\n",
    "    "
   ]
  },
  {
   "cell_type": "code",
   "execution_count": 14,
   "metadata": {},
   "outputs": [
    {
     "name": "stdout",
     "output_type": "stream",
     "text": [
      "Animal created\n",
      "I am eating\n",
      "i am krish!\n",
      "woof!\n",
      "Animal created\n",
      "I am eating\n",
      "i am Krish\n"
     ]
    }
   ],
   "source": [
    "#inheritance\n",
    "class Animal():\n",
    "    def __init__(self):\n",
    "        print(\"Animal created\")\n",
    "    def who_am_i(self):\n",
    "          print('i am Krish') \n",
    "    def eat(self):\n",
    "        print(\"I am eating\") \n",
    "class Dog(Animal):\n",
    "    def ___init__(self):\n",
    "        Animal.__init__(self)\n",
    "        print(\"Dog Created\")\n",
    "    def who_am_i(self):\n",
    "        print(\"i am krish!\")  \n",
    "    def bark(self):\n",
    "        print(\"woof!\")      \n",
    "mydog=Dog() \n",
    "mydog.eat()\n",
    "mydog.who_am_i()\n",
    "mydog.bark()      \n",
    "                 \n",
    "myanimal= Animal()\n",
    "myanimal.eat() \n",
    "myanimal.who_am_i()\n",
    "\n",
    "     \n",
    "        "
   ]
  },
  {
   "cell_type": "code",
   "execution_count": 34,
   "metadata": {},
   "outputs": [
    {
     "name": "stdout",
     "output_type": "stream",
     "text": [
      "beda say woof!\n",
      "ankur say meow!\n",
      "<class '__main__.Dog'>\n",
      "beda say woof!\n",
      "<class '__main__.Cat'>\n",
      "ankur say meow!\n",
      "beda say woof!\n",
      "ankur say meow!\n",
      "ankur says woof!\n",
      "beda says meow!\n"
     ]
    }
   ],
   "source": [
    "#polymorphism\n",
    "class Dog():\n",
    "    def __init__(self,name):\n",
    "        self.name=name\n",
    "    def speak(self):\n",
    "        return self.name + \" say woof!\"\n",
    "class Cat():\n",
    "    def __init__(self,name):\n",
    "        self.name=name\n",
    "    def speak(self):\n",
    "        return self.name + \" say meow!\"\n",
    "beda=Dog(\"beda\")\n",
    "ankur=Cat(\"ankur\")\n",
    "print(beda.speak())\n",
    "print(ankur.speak()) \n",
    "for pet in [beda,ankur]:\n",
    "        print(type(pet)) \n",
    "        print((pet.speak()))\n",
    "def pet_speak(pet):\n",
    "      print(pet.speak())\n",
    "pet_speak(beda)\n",
    "pet_speak(ankur)\n",
    "class Animal():\n",
    "    def __init__(self,name):\n",
    "        self.name=name\n",
    "    def speak(self):\n",
    "        raise  NotImplementedError(\"subclass must implement this abstract methode \")\n",
    "class Dog(Animal):\n",
    "    def  speak(self):\n",
    "        return  self.name + \" says woof!\"\n",
    "class cat(Animal):\n",
    "    def  speak(self):\n",
    "        return  self.name + \" says meow!\"    \n",
    "ankur=Dog(\"ankur\")           \n",
    "beda=cat(\"beda\")\n",
    "print(ankur.speak())\n",
    "print(beda.speak())\n",
    "           \n",
    "       \n",
    "        "
   ]
  },
  {
   "cell_type": "code",
   "execution_count": 1,
   "metadata": {},
   "outputs": [
    {
     "name": "stdout",
     "output_type": "stream",
     "text": [
      "3\n",
      "<__main__.Sample object at 0x0000020021AED6D0>\n",
      "[1, 2, 3]\n",
      "Python Rock by Krish\n",
      "Python Rock\n",
      "Krish\n",
      "200\n"
     ]
    },
    {
     "data": {
      "text/plain": [
       "200"
      ]
     },
     "execution_count": 1,
     "metadata": {},
     "output_type": "execute_result"
    }
   ],
   "source": [
    "#special (Magic/dunder) Methode\n",
    "mylist = [1, 2, 3]\n",
    "print(len(mylist))\n",
    "class Sample():\n",
    "    pass\n",
    "mysample = Sample()\n",
    "print(mysample)\n",
    "print(mylist)\n",
    "class Book():\n",
    "    def __init__(self, title, author, pages):\n",
    "        self.title = title\n",
    "        self.author = author  \n",
    "        self.pages = pages\n",
    "\n",
    "    def __str__(self):\n",
    "        return f\"{self.title} by {self.author}\"\n",
    "    def __len__(self):\n",
    "        return self.pages\n",
    "    def __del__(self):\n",
    "        print(\"A book object has been deleted \") # delet a object\n",
    "b = Book(\"Python Rock\", \"Krish\", 200)\n",
    "print(b)\n",
    "print(b.title)\n",
    "print(b.author)  \n",
    "print(b.pages)\n",
    "str(b)\n",
    "len(b)\n",
    "\n",
    "      \n",
    "      \n",
    "        "
   ]
  },
  {
   "cell_type": "code",
   "execution_count": 4,
   "metadata": {},
   "outputs": [
    {
     "name": "stdout",
     "output_type": "stream",
     "text": [
      "10\n",
      "10\n",
      "50\n"
     ]
    }
   ],
   "source": [
    "#class  and object\n",
    "class DemoClass:\n",
    "   a=10\n",
    "   def sumvalue(self):\n",
    "       print(20+30)       \n",
    "demoobject=DemoClass()\n",
    "demoobject1=DemoClass()\n",
    "print(demoobject.a)\n",
    "print(demoobject1.a)\n",
    "demoobject.sumvalue() \n",
    "\n",
    "  "
   ]
  },
  {
   "cell_type": "code",
   "execution_count": 14,
   "metadata": {},
   "outputs": [
    {
     "name": "stdout",
     "output_type": "stream",
     "text": [
      "400\n",
      "264\n",
      "Hello Good Evening Krish....\n"
     ]
    }
   ],
   "source": [
    "# methode \n",
    "class DemoClass:\n",
    "    a=20\n",
    "    def showvalue(self):\n",
    "        self.c=self.a*self.a\n",
    "        print(self.c)\n",
    "    def showvalue1(self,a,b):\n",
    "        print(a*b)\n",
    "obj=DemoClass()\n",
    "#print(obj.a)\n",
    "obj.showvalue() \n",
    "obj.showvalue1(12,22)\n",
    "# constructer\n",
    "class DemoClass():\n",
    "    def __init__(self):\n",
    "        print(\"Hello Good Evening Krish....\")\n",
    "obj=DemoClass()       \n",
    "             "
   ]
  },
  {
   "cell_type": "code",
   "execution_count": 16,
   "metadata": {},
   "outputs": [
    {
     "name": "stdout",
     "output_type": "stream",
     "text": [
      "Good morning Krish A..\n",
      "Good afternoon Krish B...\n",
      "Good Evening Krish C... \n"
     ]
    }
   ],
   "source": [
    "#inheritance (single,multilebel)\n",
    "class A():\n",
    "    def displayA(self):\n",
    "        print(\"Good morning Krish A..\")\n",
    "class B(A):\n",
    "     def displayB(self):\n",
    "        print(\"Good afternoon Krish B...\")\n",
    "class C(B):\n",
    "     def displayC(self):\n",
    "        print(\"Good Evening Krish C... \")\n",
    "obj=C()\n",
    "obj.displayA()\n",
    "obj.displayB()\n",
    "obj.displayC()             \n",
    "        \n",
    "                    "
   ]
  },
  {
   "cell_type": "code",
   "execution_count": 17,
   "metadata": {},
   "outputs": [
    {
     "name": "stdout",
     "output_type": "stream",
     "text": [
      "Good morning Krish A..\n",
      "Good afternoon Krish B...\n",
      "Good Evening Krish C... \n"
     ]
    }
   ],
   "source": [
    "# multiple inheritance\n",
    "class A():\n",
    "    def displayA(self):\n",
    "        print(\"Good morning Krish A..\")\n",
    "class B:\n",
    "     def displayB(self):\n",
    "        print(\"Good afternoon Krish B...\")\n",
    "class C(A,B):\n",
    "     def displayC(self):\n",
    "        print(\"Good Evening Krish C... \")\n",
    "obj=C()\n",
    "obj.displayA()\n",
    "obj.displayB()\n",
    "obj.displayC()  "
   ]
  },
  {
   "cell_type": "code",
   "execution_count": 3,
   "metadata": {},
   "outputs": [
    {
     "name": "stdout",
     "output_type": "stream",
     "text": [
      "Krish\n"
     ]
    }
   ],
   "source": [
    "#encapsulation (Getter and setter)\n",
    "class Student():\n",
    "    def __init__(self):\n",
    "        self._name=\"\"\n",
    "    def getname(self):\n",
    "        return self._name\n",
    "    def setname(self,name):\n",
    "          self._name=name\n",
    "obj=Student()\n",
    "\n",
    "obj.setname(\"Krish\")\n",
    "name=obj.getname()\n",
    "print(name)          "
   ]
  },
  {
   "cell_type": "code",
   "execution_count": 13,
   "metadata": {},
   "outputs": [
    {
     "name": "stdout",
     "output_type": "stream",
     "text": [
      "Krish\n",
      "Hello Krish\n"
     ]
    }
   ],
   "source": [
    "# Encapsulation\n",
    "class Student():\n",
    "    __name=\"Krish\" #private variable indicate__\n",
    "    def __init__(self):\n",
    "        print(self.__name)\n",
    "        self.__displayinfo()\n",
    "    def __displayinfo(self):\n",
    "        print(\"Hello Krish\")   \n",
    "obj=Student()"
   ]
  },
  {
   "cell_type": "code",
   "execution_count": 10,
   "metadata": {},
   "outputs": [
    {
     "name": "stdout",
     "output_type": "stream",
     "text": [
      "Good morning Krish\n",
      "Good afternoon Krish\n"
     ]
    }
   ],
   "source": [
    "#polymorphism\n",
    "l=[10,20,30,40]\n",
    "print(len(l))\n",
    "K=\"Raghu pati Raghav\"\n",
    "print(len(K))\n",
    "#overloading\n",
    "class Kr:\n",
    "   def displayinfo(self,name=\"\"):\n",
    "        print(\"Good morning\" + name)\n",
    "obj=Kr()\n",
    "obj.displayinfo()  \n",
    "obj.displayinfo('Krish')  \n",
    "#overriding\n",
    "class Kr:\n",
    "    def displayinfo(self):\n",
    "        print(\"Good morning Krish\")\n",
    "class Gh(Kr):\n",
    "    def displayinfo(self):\n",
    "        super().displayinfo()\n",
    "        print(\"Good afternoon Krish\")\n",
    "obj=Gh()\n",
    "obj.displayinfo()                   \n",
    "    "
   ]
  },
  {
   "cell_type": "code",
   "execution_count": 16,
   "metadata": {},
   "outputs": [
    {
     "name": "stdout",
     "output_type": "stream",
     "text": [
      "nothing to find\n",
      "Area of Square 100\n",
      "area of ractangle 200\n",
      "My name is ram\n",
      "My name is Shyam\n"
     ]
    }
   ],
   "source": [
    "#Methode overloading ng\n",
    "class Area:\n",
    "    def find_area(self,a=None,b=None):\n",
    "        if a!=None and b!=None:\n",
    "            print(\"area of ractangle\",(a*b))\n",
    "        elif a!=None:\n",
    "            print(\"Area of Square\",(a*a))\n",
    "        else:\n",
    "            print(\"nothing to find\")\n",
    "obj=Area()\n",
    "obj.find_area()\n",
    "obj.find_area(10)\n",
    "obj.find_area(10,20)\n",
    "\n",
    "#Methode overriding\n",
    "class Ram:\n",
    "    def name(self):\n",
    "        print(\"My name is ram\")\n",
    "class Shyam(Ram):\n",
    "    def name(self):\n",
    "       # super().name()\n",
    "        print(\"My name is Shyam\")\n",
    "obj=Shyam()\n",
    "obj.name()        \n",
    "         \n",
    "                \n",
    "    "
   ]
  }
 ],
 "metadata": {
  "kernelspec": {
   "display_name": ".venv",
   "language": "python",
   "name": "python3"
  },
  "language_info": {
   "codemirror_mode": {
    "name": "ipython",
    "version": 3
   },
   "file_extension": ".py",
   "mimetype": "text/x-python",
   "name": "python",
   "nbconvert_exporter": "python",
   "pygments_lexer": "ipython3",
   "version": "3.11.5"
  }
 },
 "nbformat": 4,
 "nbformat_minor": 2
}
